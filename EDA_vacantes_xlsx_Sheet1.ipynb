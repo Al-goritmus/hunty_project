{
  "nbformat": 4,
  "nbformat_minor": 0,
  "metadata": {
    "colab": {
      "provenance": [],
      "include_colab_link": true
    },
    "kernelspec": {
      "name": "python3",
      "display_name": "Python 3"
    },
    "language_info": {
      "name": "python"
    },
    "widgets": {
      "application/vnd.jupyter.widget-state+json": {
        "5f220729ed9249d5a190638e2b5d508a": {
          "model_module": "@jupyter-widgets/controls",
          "model_name": "HBoxModel",
          "model_module_version": "1.5.0",
          "state": {
            "_dom_classes": [],
            "_model_module": "@jupyter-widgets/controls",
            "_model_module_version": "1.5.0",
            "_model_name": "HBoxModel",
            "_view_count": null,
            "_view_module": "@jupyter-widgets/controls",
            "_view_module_version": "1.5.0",
            "_view_name": "HBoxView",
            "box_style": "",
            "children": [
              "IPY_MODEL_04393ea903174370b9f19e2a1280e106",
              "IPY_MODEL_cbc2fec83c3b434fa6c7be31c32bc12f",
              "IPY_MODEL_36d8a56ca9d749e0944b81f0f9d0f14c"
            ],
            "layout": "IPY_MODEL_bd53010876f54b1193fe27e9181ff263"
          }
        },
        "04393ea903174370b9f19e2a1280e106": {
          "model_module": "@jupyter-widgets/controls",
          "model_name": "HTMLModel",
          "model_module_version": "1.5.0",
          "state": {
            "_dom_classes": [],
            "_model_module": "@jupyter-widgets/controls",
            "_model_module_version": "1.5.0",
            "_model_name": "HTMLModel",
            "_view_count": null,
            "_view_module": "@jupyter-widgets/controls",
            "_view_module_version": "1.5.0",
            "_view_name": "HTMLView",
            "description": "",
            "description_tooltip": null,
            "layout": "IPY_MODEL_1f1af146332d4b2abb4adfae4767eaac",
            "placeholder": "​",
            "style": "IPY_MODEL_a366ce9203614b9196ded94a50446d55",
            "value": "Done! Use &#x27;show&#x27; commands to display/save.   "
          }
        },
        "cbc2fec83c3b434fa6c7be31c32bc12f": {
          "model_module": "@jupyter-widgets/controls",
          "model_name": "FloatProgressModel",
          "model_module_version": "1.5.0",
          "state": {
            "_dom_classes": [],
            "_model_module": "@jupyter-widgets/controls",
            "_model_module_version": "1.5.0",
            "_model_name": "FloatProgressModel",
            "_view_count": null,
            "_view_module": "@jupyter-widgets/controls",
            "_view_module_version": "1.5.0",
            "_view_name": "ProgressView",
            "bar_style": "success",
            "description": "",
            "description_tooltip": null,
            "layout": "IPY_MODEL_01d1b58780384bbdb756e74957ef23ce",
            "max": 1,
            "min": 0,
            "orientation": "horizontal",
            "style": "IPY_MODEL_8fe2cf94339d4ebaabcf96ff09201499",
            "value": 1
          }
        },
        "36d8a56ca9d749e0944b81f0f9d0f14c": {
          "model_module": "@jupyter-widgets/controls",
          "model_name": "HTMLModel",
          "model_module_version": "1.5.0",
          "state": {
            "_dom_classes": [],
            "_model_module": "@jupyter-widgets/controls",
            "_model_module_version": "1.5.0",
            "_model_name": "HTMLModel",
            "_view_count": null,
            "_view_module": "@jupyter-widgets/controls",
            "_view_module_version": "1.5.0",
            "_view_name": "HTMLView",
            "description": "",
            "description_tooltip": null,
            "layout": "IPY_MODEL_816fe52c192b4775aa0a424fbed6507c",
            "placeholder": "​",
            "style": "IPY_MODEL_ec383c047f564893addb3d23a0f75f30",
            "value": " [100%]   00:02 -&gt; (00:00 left)"
          }
        },
        "bd53010876f54b1193fe27e9181ff263": {
          "model_module": "@jupyter-widgets/base",
          "model_name": "LayoutModel",
          "model_module_version": "1.2.0",
          "state": {
            "_model_module": "@jupyter-widgets/base",
            "_model_module_version": "1.2.0",
            "_model_name": "LayoutModel",
            "_view_count": null,
            "_view_module": "@jupyter-widgets/base",
            "_view_module_version": "1.2.0",
            "_view_name": "LayoutView",
            "align_content": null,
            "align_items": null,
            "align_self": null,
            "border": null,
            "bottom": null,
            "display": "inline-flex",
            "flex": null,
            "flex_flow": "row wrap",
            "grid_area": null,
            "grid_auto_columns": null,
            "grid_auto_flow": null,
            "grid_auto_rows": null,
            "grid_column": null,
            "grid_gap": null,
            "grid_row": null,
            "grid_template_areas": null,
            "grid_template_columns": null,
            "grid_template_rows": null,
            "height": null,
            "justify_content": null,
            "justify_items": null,
            "left": null,
            "margin": null,
            "max_height": null,
            "max_width": null,
            "min_height": null,
            "min_width": null,
            "object_fit": null,
            "object_position": null,
            "order": null,
            "overflow": null,
            "overflow_x": null,
            "overflow_y": null,
            "padding": null,
            "right": null,
            "top": null,
            "visibility": null,
            "width": "100%"
          }
        },
        "1f1af146332d4b2abb4adfae4767eaac": {
          "model_module": "@jupyter-widgets/base",
          "model_name": "LayoutModel",
          "model_module_version": "1.2.0",
          "state": {
            "_model_module": "@jupyter-widgets/base",
            "_model_module_version": "1.2.0",
            "_model_name": "LayoutModel",
            "_view_count": null,
            "_view_module": "@jupyter-widgets/base",
            "_view_module_version": "1.2.0",
            "_view_name": "LayoutView",
            "align_content": null,
            "align_items": null,
            "align_self": null,
            "border": null,
            "bottom": null,
            "display": null,
            "flex": null,
            "flex_flow": null,
            "grid_area": null,
            "grid_auto_columns": null,
            "grid_auto_flow": null,
            "grid_auto_rows": null,
            "grid_column": null,
            "grid_gap": null,
            "grid_row": null,
            "grid_template_areas": null,
            "grid_template_columns": null,
            "grid_template_rows": null,
            "height": null,
            "justify_content": null,
            "justify_items": null,
            "left": null,
            "margin": null,
            "max_height": null,
            "max_width": null,
            "min_height": null,
            "min_width": null,
            "object_fit": null,
            "object_position": null,
            "order": null,
            "overflow": null,
            "overflow_x": null,
            "overflow_y": null,
            "padding": null,
            "right": null,
            "top": null,
            "visibility": null,
            "width": null
          }
        },
        "a366ce9203614b9196ded94a50446d55": {
          "model_module": "@jupyter-widgets/controls",
          "model_name": "DescriptionStyleModel",
          "model_module_version": "1.5.0",
          "state": {
            "_model_module": "@jupyter-widgets/controls",
            "_model_module_version": "1.5.0",
            "_model_name": "DescriptionStyleModel",
            "_view_count": null,
            "_view_module": "@jupyter-widgets/base",
            "_view_module_version": "1.2.0",
            "_view_name": "StyleView",
            "description_width": ""
          }
        },
        "01d1b58780384bbdb756e74957ef23ce": {
          "model_module": "@jupyter-widgets/base",
          "model_name": "LayoutModel",
          "model_module_version": "1.2.0",
          "state": {
            "_model_module": "@jupyter-widgets/base",
            "_model_module_version": "1.2.0",
            "_model_name": "LayoutModel",
            "_view_count": null,
            "_view_module": "@jupyter-widgets/base",
            "_view_module_version": "1.2.0",
            "_view_name": "LayoutView",
            "align_content": null,
            "align_items": null,
            "align_self": null,
            "border": null,
            "bottom": null,
            "display": null,
            "flex": "2",
            "flex_flow": null,
            "grid_area": null,
            "grid_auto_columns": null,
            "grid_auto_flow": null,
            "grid_auto_rows": null,
            "grid_column": null,
            "grid_gap": null,
            "grid_row": null,
            "grid_template_areas": null,
            "grid_template_columns": null,
            "grid_template_rows": null,
            "height": null,
            "justify_content": null,
            "justify_items": null,
            "left": null,
            "margin": null,
            "max_height": null,
            "max_width": null,
            "min_height": null,
            "min_width": null,
            "object_fit": null,
            "object_position": null,
            "order": null,
            "overflow": null,
            "overflow_x": null,
            "overflow_y": null,
            "padding": null,
            "right": null,
            "top": null,
            "visibility": null,
            "width": null
          }
        },
        "8fe2cf94339d4ebaabcf96ff09201499": {
          "model_module": "@jupyter-widgets/controls",
          "model_name": "ProgressStyleModel",
          "model_module_version": "1.5.0",
          "state": {
            "_model_module": "@jupyter-widgets/controls",
            "_model_module_version": "1.5.0",
            "_model_name": "ProgressStyleModel",
            "_view_count": null,
            "_view_module": "@jupyter-widgets/base",
            "_view_module_version": "1.2.0",
            "_view_name": "StyleView",
            "bar_color": null,
            "description_width": ""
          }
        },
        "816fe52c192b4775aa0a424fbed6507c": {
          "model_module": "@jupyter-widgets/base",
          "model_name": "LayoutModel",
          "model_module_version": "1.2.0",
          "state": {
            "_model_module": "@jupyter-widgets/base",
            "_model_module_version": "1.2.0",
            "_model_name": "LayoutModel",
            "_view_count": null,
            "_view_module": "@jupyter-widgets/base",
            "_view_module_version": "1.2.0",
            "_view_name": "LayoutView",
            "align_content": null,
            "align_items": null,
            "align_self": null,
            "border": null,
            "bottom": null,
            "display": null,
            "flex": null,
            "flex_flow": null,
            "grid_area": null,
            "grid_auto_columns": null,
            "grid_auto_flow": null,
            "grid_auto_rows": null,
            "grid_column": null,
            "grid_gap": null,
            "grid_row": null,
            "grid_template_areas": null,
            "grid_template_columns": null,
            "grid_template_rows": null,
            "height": null,
            "justify_content": null,
            "justify_items": null,
            "left": null,
            "margin": null,
            "max_height": null,
            "max_width": null,
            "min_height": null,
            "min_width": null,
            "object_fit": null,
            "object_position": null,
            "order": null,
            "overflow": null,
            "overflow_x": null,
            "overflow_y": null,
            "padding": null,
            "right": null,
            "top": null,
            "visibility": null,
            "width": null
          }
        },
        "ec383c047f564893addb3d23a0f75f30": {
          "model_module": "@jupyter-widgets/controls",
          "model_name": "DescriptionStyleModel",
          "model_module_version": "1.5.0",
          "state": {
            "_model_module": "@jupyter-widgets/controls",
            "_model_module_version": "1.5.0",
            "_model_name": "DescriptionStyleModel",
            "_view_count": null,
            "_view_module": "@jupyter-widgets/base",
            "_view_module_version": "1.2.0",
            "_view_name": "StyleView",
            "description_width": ""
          }
        }
      }
    }
  },
  "cells": [
    {
      "cell_type": "markdown",
      "metadata": {
        "id": "view-in-github",
        "colab_type": "text"
      },
      "source": [
        "<a href=\"https://colab.research.google.com/github/Al-goritmus/hunty_project/blob/master/EDA_vacantes_xlsx_Sheet1.ipynb\" target=\"_parent\"><img src=\"https://colab.research.google.com/assets/colab-badge.svg\" alt=\"Open In Colab\"/></a>"
      ]
    },
    {
      "cell_type": "markdown",
      "source": [
        "# Import libraries"
      ],
      "metadata": {
        "id": "784b8143-f73b-4b07-857d-8b4542c07d9c"
      }
    },
    {
      "cell_type": "code",
      "execution_count": null,
      "metadata": {
        "id": "e07a66b5-c87d-4c1f-b08c-c8cf8b2fcd1d",
        "colab": {
          "base_uri": "https://localhost:8080/"
        },
        "outputId": "af6e3fd0-4e26-402c-c5de-fa792778f51a"
      },
      "outputs": [
        {
          "output_type": "stream",
          "name": "stdout",
          "text": [
            "Looking in indexes: https://pypi.org/simple, https://us-python.pkg.dev/colab-wheels/public/simple/\n",
            "Requirement already satisfied: sweetviz in /usr/local/lib/python3.10/dist-packages (2.1.4)\n",
            "Requirement already satisfied: pandas!=1.0.0,!=1.0.1,!=1.0.2,>=0.25.3 in /usr/local/lib/python3.10/dist-packages (from sweetviz) (1.5.3)\n",
            "Requirement already satisfied: numpy>=1.16.0 in /usr/local/lib/python3.10/dist-packages (from sweetviz) (1.22.4)\n",
            "Requirement already satisfied: matplotlib>=3.1.3 in /usr/local/lib/python3.10/dist-packages (from sweetviz) (3.7.1)\n",
            "Requirement already satisfied: tqdm>=4.43.0 in /usr/local/lib/python3.10/dist-packages (from sweetviz) (4.65.0)\n",
            "Requirement already satisfied: scipy>=1.3.2 in /usr/local/lib/python3.10/dist-packages (from sweetviz) (1.10.1)\n",
            "Requirement already satisfied: jinja2>=2.11.1 in /usr/local/lib/python3.10/dist-packages (from sweetviz) (3.1.2)\n",
            "Requirement already satisfied: importlib-resources>=1.2.0 in /usr/local/lib/python3.10/dist-packages (from sweetviz) (5.12.0)\n",
            "Requirement already satisfied: MarkupSafe>=2.0 in /usr/local/lib/python3.10/dist-packages (from jinja2>=2.11.1->sweetviz) (2.1.2)\n",
            "Requirement already satisfied: contourpy>=1.0.1 in /usr/local/lib/python3.10/dist-packages (from matplotlib>=3.1.3->sweetviz) (1.0.7)\n",
            "Requirement already satisfied: cycler>=0.10 in /usr/local/lib/python3.10/dist-packages (from matplotlib>=3.1.3->sweetviz) (0.11.0)\n",
            "Requirement already satisfied: fonttools>=4.22.0 in /usr/local/lib/python3.10/dist-packages (from matplotlib>=3.1.3->sweetviz) (4.39.3)\n",
            "Requirement already satisfied: kiwisolver>=1.0.1 in /usr/local/lib/python3.10/dist-packages (from matplotlib>=3.1.3->sweetviz) (1.4.4)\n",
            "Requirement already satisfied: packaging>=20.0 in /usr/local/lib/python3.10/dist-packages (from matplotlib>=3.1.3->sweetviz) (23.1)\n",
            "Requirement already satisfied: pillow>=6.2.0 in /usr/local/lib/python3.10/dist-packages (from matplotlib>=3.1.3->sweetviz) (8.4.0)\n",
            "Requirement already satisfied: pyparsing>=2.3.1 in /usr/local/lib/python3.10/dist-packages (from matplotlib>=3.1.3->sweetviz) (3.0.9)\n",
            "Requirement already satisfied: python-dateutil>=2.7 in /usr/local/lib/python3.10/dist-packages (from matplotlib>=3.1.3->sweetviz) (2.8.2)\n",
            "Requirement already satisfied: pytz>=2020.1 in /usr/local/lib/python3.10/dist-packages (from pandas!=1.0.0,!=1.0.1,!=1.0.2,>=0.25.3->sweetviz) (2022.7.1)\n",
            "Requirement already satisfied: six>=1.5 in /usr/local/lib/python3.10/dist-packages (from python-dateutil>=2.7->matplotlib>=3.1.3->sweetviz) (1.16.0)\n"
          ]
        }
      ],
      "source": [
        "!pip install sweetviz\n"
      ]
    },
    {
      "cell_type": "code",
      "execution_count": null,
      "metadata": {
        "id": "a2ea2a0e-c072-4d23-a762-9dbc4b736b1b"
      },
      "outputs": [],
      "source": [
        "import pandas as pd\n",
        "import psycopg2\n",
        "import numpy as np\n",
        "import matplotlib.pyplot     as plt\n",
        "import matplotlib.patches    as mpatches\n",
        "import seaborn               as sns\n",
        "import sweetviz as sv\n",
        "import sklearn.metrics       as Metrics\n",
        "from google.colab import drive\n",
        "%matplotlib inline"
      ]
    },
    {
      "cell_type": "markdown",
      "source": [
        "# Read file"
      ],
      "metadata": {
        "id": "083814ac-8546-4d70-99a4-ff246062bbbc"
      }
    },
    {
      "cell_type": "code",
      "execution_count": null,
      "metadata": {
        "id": "e5caf654-c18a-4541-934e-a28b0d5f0b1c",
        "colab": {
          "base_uri": "https://localhost:8080/"
        },
        "outputId": "580c4578-9ac6-4f2e-d793-54de4ba07ff8"
      },
      "outputs": [
        {
          "output_type": "stream",
          "name": "stdout",
          "text": [
            "Drive already mounted at /content/drive; to attempt to forcibly remount, call drive.mount(\"/content/drive\", force_remount=True).\n"
          ]
        }
      ],
      "source": [
        "drive.mount('/content/drive')\n"
      ]
    },
    {
      "cell_type": "code",
      "execution_count": null,
      "metadata": {
        "id": "a9a368a4-219c-40af-bcc9-5745576bf2e7"
      },
      "outputs": [],
      "source": [
        "path_dir = '/content/drive/MyDrive/hunty/'\n",
        "filename = 'vacantes.xlsx'\n",
        "sheet = 'Sheet1'\n"
      ]
    },
    {
      "cell_type": "code",
      "execution_count": null,
      "metadata": {
        "id": "8c4cf3af-40da-48b4-97ef-2b6bf8b40a28"
      },
      "outputs": [],
      "source": [
        "df = pd.read_excel(f'{path_dir}{filename}', sheet_name=sheet, header=0)"
      ]
    },
    {
      "cell_type": "code",
      "execution_count": null,
      "metadata": {
        "id": "a948ebaf-4e49-40d4-ab07-c08f48f6260a",
        "colab": {
          "base_uri": "https://localhost:8080/"
        },
        "outputId": "520c26c2-5085-4e4c-9434-55910604378e"
      },
      "outputs": [
        {
          "output_type": "execute_result",
          "data": {
            "text/plain": [
              "      account executive              area    work_modality   country  \\\n",
              "0                   NaN  Ventas Comercial  Tiempo completo    MEXICO   \n",
              "1               50476.0          Mercadeo  Tiempo completo    MEXICO   \n",
              "2               35784.0  Ventas Comercial              NaN             \n",
              "3               55829.0          Mercadeo  Tiempo completo       NaN   \n",
              "4               31068.0  Ventas Comercial  Tiempo completo  COLOMBIA   \n",
              "...                 ...               ...              ...       ...   \n",
              "9995            35850.0  Ventas Comercial              NaN       NaN   \n",
              "9996            56434.0          Mercadeo  Tiempo completo       NaN   \n",
              "9997              478.0               NaN  Tiempo completo       NaN   \n",
              "9998            65986.0  Recursos Humanos  Tiempo completo       NaN   \n",
              "9999            15027.0               NaN  Tiempo completo  COLOMBIA   \n",
              "\n",
              "                        city  remote  \\\n",
              "0           Ciudad de Mexico   False   \n",
              "1     San Pedro Garza Garcia   False   \n",
              "2                        NaN   False   \n",
              "3                        NaN   False   \n",
              "4                   Medellin   False   \n",
              "...                      ...     ...   \n",
              "9995                     NaN   False   \n",
              "9996                     NaN    True   \n",
              "9997                     NaN   False   \n",
              "9998                     NaN    True   \n",
              "9999                  Bogota   False   \n",
              "\n",
              "                                           vacancy_name  \\\n",
              "0                                     account executive   \n",
              "1                 coordinador de marketing y publicidad   \n",
              "2     Ejecutivo de Ventas y Servicio Medellín - 02 d...   \n",
              "3                                     desarrollador web   \n",
              "4     asesor comercial con experiencia en ventas de ...   \n",
              "...                                                 ...   \n",
              "9995                  COLOMBIA - Coordinador Senior COE   \n",
              "9996                         manager, digital marketing   \n",
              "9997                        director de nuevos negocios   \n",
              "9998                              sr recruiter - mexico   \n",
              "9999                   especialista de gestión efectiva   \n",
              "\n",
              "                                            description  \n",
              "0     Are you looking for a challenging opportunity ...  \n",
              "1     Empresa enfocada en estética médica y dermatol...  \n",
              "2     Sobre el cargo\\nEstamos en la búsqueda de WOMe...  \n",
              "3     Gen TI Consulting Somos una empresa mexicana, ...  \n",
              "4     Tienda De Marca Deportiva Número 1 a Nivel Mu...  \n",
              "...                                                 ...  \n",
              "9995  Reporta a: COE Manager\\nLinio es la tienda en ...  \n",
              "9996  position title: manager, digital marketing\\n\\n...  \n",
              "9997  importante empresa del sectorrequieredirector ...  \n",
              "9998  location: 100% remotee in mexico – proficient ...  \n",
              "9999  ¡únete a la institución n°1 en microfinanzas d...  \n",
              "\n",
              "[10000 rows x 8 columns]"
            ],
            "text/html": [
              "\n",
              "  <div id=\"df-545d73eb-e0f2-418a-b331-fd2ed0197723\">\n",
              "    <div class=\"colab-df-container\">\n",
              "      <div>\n",
              "<style scoped>\n",
              "    .dataframe tbody tr th:only-of-type {\n",
              "        vertical-align: middle;\n",
              "    }\n",
              "\n",
              "    .dataframe tbody tr th {\n",
              "        vertical-align: top;\n",
              "    }\n",
              "\n",
              "    .dataframe thead th {\n",
              "        text-align: right;\n",
              "    }\n",
              "</style>\n",
              "<table border=\"1\" class=\"dataframe\">\n",
              "  <thead>\n",
              "    <tr style=\"text-align: right;\">\n",
              "      <th></th>\n",
              "      <th>account executive</th>\n",
              "      <th>area</th>\n",
              "      <th>work_modality</th>\n",
              "      <th>country</th>\n",
              "      <th>city</th>\n",
              "      <th>remote</th>\n",
              "      <th>vacancy_name</th>\n",
              "      <th>description</th>\n",
              "    </tr>\n",
              "  </thead>\n",
              "  <tbody>\n",
              "    <tr>\n",
              "      <th>0</th>\n",
              "      <td>NaN</td>\n",
              "      <td>Ventas Comercial</td>\n",
              "      <td>Tiempo completo</td>\n",
              "      <td>MEXICO</td>\n",
              "      <td>Ciudad de Mexico</td>\n",
              "      <td>False</td>\n",
              "      <td>account executive</td>\n",
              "      <td>Are you looking for a challenging opportunity ...</td>\n",
              "    </tr>\n",
              "    <tr>\n",
              "      <th>1</th>\n",
              "      <td>50476.0</td>\n",
              "      <td>Mercadeo</td>\n",
              "      <td>Tiempo completo</td>\n",
              "      <td>MEXICO</td>\n",
              "      <td>San Pedro Garza Garcia</td>\n",
              "      <td>False</td>\n",
              "      <td>coordinador de marketing y publicidad</td>\n",
              "      <td>Empresa enfocada en estética médica y dermatol...</td>\n",
              "    </tr>\n",
              "    <tr>\n",
              "      <th>2</th>\n",
              "      <td>35784.0</td>\n",
              "      <td>Ventas Comercial</td>\n",
              "      <td>NaN</td>\n",
              "      <td></td>\n",
              "      <td>NaN</td>\n",
              "      <td>False</td>\n",
              "      <td>Ejecutivo de Ventas y Servicio Medellín - 02 d...</td>\n",
              "      <td>Sobre el cargo\\nEstamos en la búsqueda de WOMe...</td>\n",
              "    </tr>\n",
              "    <tr>\n",
              "      <th>3</th>\n",
              "      <td>55829.0</td>\n",
              "      <td>Mercadeo</td>\n",
              "      <td>Tiempo completo</td>\n",
              "      <td>NaN</td>\n",
              "      <td>NaN</td>\n",
              "      <td>False</td>\n",
              "      <td>desarrollador web</td>\n",
              "      <td>Gen TI Consulting Somos una empresa mexicana, ...</td>\n",
              "    </tr>\n",
              "    <tr>\n",
              "      <th>4</th>\n",
              "      <td>31068.0</td>\n",
              "      <td>Ventas Comercial</td>\n",
              "      <td>Tiempo completo</td>\n",
              "      <td>COLOMBIA</td>\n",
              "      <td>Medellin</td>\n",
              "      <td>False</td>\n",
              "      <td>asesor comercial con experiencia en ventas de ...</td>\n",
              "      <td>Tienda De Marca Deportiva Número 1 a Nivel Mu...</td>\n",
              "    </tr>\n",
              "    <tr>\n",
              "      <th>...</th>\n",
              "      <td>...</td>\n",
              "      <td>...</td>\n",
              "      <td>...</td>\n",
              "      <td>...</td>\n",
              "      <td>...</td>\n",
              "      <td>...</td>\n",
              "      <td>...</td>\n",
              "      <td>...</td>\n",
              "    </tr>\n",
              "    <tr>\n",
              "      <th>9995</th>\n",
              "      <td>35850.0</td>\n",
              "      <td>Ventas Comercial</td>\n",
              "      <td>NaN</td>\n",
              "      <td>NaN</td>\n",
              "      <td>NaN</td>\n",
              "      <td>False</td>\n",
              "      <td>COLOMBIA - Coordinador Senior COE</td>\n",
              "      <td>Reporta a: COE Manager\\nLinio es la tienda en ...</td>\n",
              "    </tr>\n",
              "    <tr>\n",
              "      <th>9996</th>\n",
              "      <td>56434.0</td>\n",
              "      <td>Mercadeo</td>\n",
              "      <td>Tiempo completo</td>\n",
              "      <td>NaN</td>\n",
              "      <td>NaN</td>\n",
              "      <td>True</td>\n",
              "      <td>manager, digital marketing</td>\n",
              "      <td>position title: manager, digital marketing\\n\\n...</td>\n",
              "    </tr>\n",
              "    <tr>\n",
              "      <th>9997</th>\n",
              "      <td>478.0</td>\n",
              "      <td>NaN</td>\n",
              "      <td>Tiempo completo</td>\n",
              "      <td>NaN</td>\n",
              "      <td>NaN</td>\n",
              "      <td>False</td>\n",
              "      <td>director de nuevos negocios</td>\n",
              "      <td>importante empresa del sectorrequieredirector ...</td>\n",
              "    </tr>\n",
              "    <tr>\n",
              "      <th>9998</th>\n",
              "      <td>65986.0</td>\n",
              "      <td>Recursos Humanos</td>\n",
              "      <td>Tiempo completo</td>\n",
              "      <td>NaN</td>\n",
              "      <td>NaN</td>\n",
              "      <td>True</td>\n",
              "      <td>sr recruiter - mexico</td>\n",
              "      <td>location: 100% remotee in mexico – proficient ...</td>\n",
              "    </tr>\n",
              "    <tr>\n",
              "      <th>9999</th>\n",
              "      <td>15027.0</td>\n",
              "      <td>NaN</td>\n",
              "      <td>Tiempo completo</td>\n",
              "      <td>COLOMBIA</td>\n",
              "      <td>Bogota</td>\n",
              "      <td>False</td>\n",
              "      <td>especialista de gestión efectiva</td>\n",
              "      <td>¡únete a la institución n°1 en microfinanzas d...</td>\n",
              "    </tr>\n",
              "  </tbody>\n",
              "</table>\n",
              "<p>10000 rows × 8 columns</p>\n",
              "</div>\n",
              "      <button class=\"colab-df-convert\" onclick=\"convertToInteractive('df-545d73eb-e0f2-418a-b331-fd2ed0197723')\"\n",
              "              title=\"Convert this dataframe to an interactive table.\"\n",
              "              style=\"display:none;\">\n",
              "        \n",
              "  <svg xmlns=\"http://www.w3.org/2000/svg\" height=\"24px\"viewBox=\"0 0 24 24\"\n",
              "       width=\"24px\">\n",
              "    <path d=\"M0 0h24v24H0V0z\" fill=\"none\"/>\n",
              "    <path d=\"M18.56 5.44l.94 2.06.94-2.06 2.06-.94-2.06-.94-.94-2.06-.94 2.06-2.06.94zm-11 1L8.5 8.5l.94-2.06 2.06-.94-2.06-.94L8.5 2.5l-.94 2.06-2.06.94zm10 10l.94 2.06.94-2.06 2.06-.94-2.06-.94-.94-2.06-.94 2.06-2.06.94z\"/><path d=\"M17.41 7.96l-1.37-1.37c-.4-.4-.92-.59-1.43-.59-.52 0-1.04.2-1.43.59L10.3 9.45l-7.72 7.72c-.78.78-.78 2.05 0 2.83L4 21.41c.39.39.9.59 1.41.59.51 0 1.02-.2 1.41-.59l7.78-7.78 2.81-2.81c.8-.78.8-2.07 0-2.86zM5.41 20L4 18.59l7.72-7.72 1.47 1.35L5.41 20z\"/>\n",
              "  </svg>\n",
              "      </button>\n",
              "      \n",
              "  <style>\n",
              "    .colab-df-container {\n",
              "      display:flex;\n",
              "      flex-wrap:wrap;\n",
              "      gap: 12px;\n",
              "    }\n",
              "\n",
              "    .colab-df-convert {\n",
              "      background-color: #E8F0FE;\n",
              "      border: none;\n",
              "      border-radius: 50%;\n",
              "      cursor: pointer;\n",
              "      display: none;\n",
              "      fill: #1967D2;\n",
              "      height: 32px;\n",
              "      padding: 0 0 0 0;\n",
              "      width: 32px;\n",
              "    }\n",
              "\n",
              "    .colab-df-convert:hover {\n",
              "      background-color: #E2EBFA;\n",
              "      box-shadow: 0px 1px 2px rgba(60, 64, 67, 0.3), 0px 1px 3px 1px rgba(60, 64, 67, 0.15);\n",
              "      fill: #174EA6;\n",
              "    }\n",
              "\n",
              "    [theme=dark] .colab-df-convert {\n",
              "      background-color: #3B4455;\n",
              "      fill: #D2E3FC;\n",
              "    }\n",
              "\n",
              "    [theme=dark] .colab-df-convert:hover {\n",
              "      background-color: #434B5C;\n",
              "      box-shadow: 0px 1px 3px 1px rgba(0, 0, 0, 0.15);\n",
              "      filter: drop-shadow(0px 1px 2px rgba(0, 0, 0, 0.3));\n",
              "      fill: #FFFFFF;\n",
              "    }\n",
              "  </style>\n",
              "\n",
              "      <script>\n",
              "        const buttonEl =\n",
              "          document.querySelector('#df-545d73eb-e0f2-418a-b331-fd2ed0197723 button.colab-df-convert');\n",
              "        buttonEl.style.display =\n",
              "          google.colab.kernel.accessAllowed ? 'block' : 'none';\n",
              "\n",
              "        async function convertToInteractive(key) {\n",
              "          const element = document.querySelector('#df-545d73eb-e0f2-418a-b331-fd2ed0197723');\n",
              "          const dataTable =\n",
              "            await google.colab.kernel.invokeFunction('convertToInteractive',\n",
              "                                                     [key], {});\n",
              "          if (!dataTable) return;\n",
              "\n",
              "          const docLinkHtml = 'Like what you see? Visit the ' +\n",
              "            '<a target=\"_blank\" href=https://colab.research.google.com/notebooks/data_table.ipynb>data table notebook</a>'\n",
              "            + ' to learn more about interactive tables.';\n",
              "          element.innerHTML = '';\n",
              "          dataTable['output_type'] = 'display_data';\n",
              "          await google.colab.output.renderOutput(dataTable, element);\n",
              "          const docLink = document.createElement('div');\n",
              "          docLink.innerHTML = docLinkHtml;\n",
              "          element.appendChild(docLink);\n",
              "        }\n",
              "      </script>\n",
              "    </div>\n",
              "  </div>\n",
              "  "
            ]
          },
          "metadata": {},
          "execution_count": 104
        }
      ],
      "source": [
        "df"
      ]
    },
    {
      "cell_type": "code",
      "source": [
        "df.info()"
      ],
      "metadata": {
        "colab": {
          "base_uri": "https://localhost:8080/"
        },
        "id": "eVfUMLl_3EBr",
        "outputId": "137e1dca-7022-4e98-d63c-742db4300e6c"
      },
      "execution_count": null,
      "outputs": [
        {
          "output_type": "stream",
          "name": "stdout",
          "text": [
            "<class 'pandas.core.frame.DataFrame'>\n",
            "RangeIndex: 10000 entries, 0 to 9999\n",
            "Data columns (total 8 columns):\n",
            " #   Column             Non-Null Count  Dtype  \n",
            "---  ------             --------------  -----  \n",
            " 0   account executive  9999 non-null   float64\n",
            " 1   area               7461 non-null   object \n",
            " 2   work_modality      9560 non-null   object \n",
            " 3   country            6530 non-null   object \n",
            " 4   city               6529 non-null   object \n",
            " 5   remote             10000 non-null  bool   \n",
            " 6   vacancy_name       10000 non-null  object \n",
            " 7   description        10000 non-null  object \n",
            "dtypes: bool(1), float64(1), object(6)\n",
            "memory usage: 556.8+ KB\n"
          ]
        }
      ]
    },
    {
      "cell_type": "code",
      "source": [
        "df.shape"
      ],
      "metadata": {
        "colab": {
          "base_uri": "https://localhost:8080/"
        },
        "id": "egQnYVIoA4tW",
        "outputId": "a6de5674-a30e-41ad-c666-4a8d78ea4299"
      },
      "execution_count": null,
      "outputs": [
        {
          "output_type": "execute_result",
          "data": {
            "text/plain": [
              "(10000, 8)"
            ]
          },
          "metadata": {},
          "execution_count": 106
        }
      ]
    },
    {
      "cell_type": "code",
      "source": [
        "df.dropna()\n"
      ],
      "metadata": {
        "colab": {
          "base_uri": "https://localhost:8080/"
        },
        "id": "TruEcy1zA3l4",
        "outputId": "5ed59f9d-6143-4201-c2ed-6fcb04488121"
      },
      "execution_count": null,
      "outputs": [
        {
          "output_type": "execute_result",
          "data": {
            "text/plain": [
              "      account executive              area    work_modality        country  \\\n",
              "1               50476.0          Mercadeo  Tiempo completo         MEXICO   \n",
              "4               31068.0  Ventas Comercial  Tiempo completo       COLOMBIA   \n",
              "6               40686.0  Ventas Comercial  Tiempo completo         MEXICO   \n",
              "9               58837.0          Mercadeo  Tiempo completo         MEXICO   \n",
              "10              53382.0          Mercadeo  Tiempo completo  UNITED STATES   \n",
              "...                 ...               ...              ...            ...   \n",
              "9986            57179.0          Mercadeo  Tiempo completo         MEXICO   \n",
              "9987            29005.0  Ventas Comercial  Tiempo completo       COLOMBIA   \n",
              "9989            34240.0  Ventas Comercial  Tiempo completo       COLOMBIA   \n",
              "9993            31369.0  Ventas Comercial  Tiempo completo       COLOMBIA   \n",
              "9994            34170.0  Ventas Comercial  Tiempo completo       COLOMBIA   \n",
              "\n",
              "                        city  remote  \\\n",
              "1     San Pedro Garza Garcia   False   \n",
              "4                   Medellin   False   \n",
              "6           Ciudad de Mexico    True   \n",
              "9                 Cuautitlan   False   \n",
              "10               Wescosville    True   \n",
              "...                      ...     ...   \n",
              "9986        Ciudad de Mexico    True   \n",
              "9987              Valledupar   False   \n",
              "9989                  Bogota   False   \n",
              "9993                  Bogota   False   \n",
              "9994                  Bogota   False   \n",
              "\n",
              "                                           vacancy_name  \\\n",
              "1                 coordinador de marketing y publicidad   \n",
              "4     asesor comercial con experiencia en ventas de ...   \n",
              "6                          senior director, mesoamerica   \n",
              "9                           trade marketing coordinator   \n",
              "10                                     category manager   \n",
              "...                                                 ...   \n",
              "9986                    marketing automation specialist   \n",
              "9987                 coordinador comercial - valledupar   \n",
              "9989                                     asesora ventas   \n",
              "9993                         asesor comercial montblanc   \n",
              "9994                consultor sap experiencia comercial   \n",
              "\n",
              "                                            description  \n",
              "1     Empresa enfocada en estética médica y dermatol...  \n",
              "4     Tienda De Marca Deportiva Número 1 a Nivel Mu...  \n",
              "6     the rainforest alliance is creating a more sus...  \n",
              "9     Coordinador Trade Marketing\\n\\nTiempo Completo...  \n",
              "10    location: hanover, pa (logistic ctr), pennsylv...  \n",
              "...                                                 ...  \n",
              "9986  latam marketing automation specialist\\n\\n\\n\\n\\...  \n",
              "9987  Importante empresa del sector de telecomunicac...  \n",
              "9989  somos thax diseñadores, nuestras tiendas reuni...  \n",
              "9993  Sobre la empresa\\n\\n\\n\\n\\nComercio al por meno...  \n",
              "9994  ¡buscamos profesionales exitosos (as) como tú!...  \n",
              "\n",
              "[4815 rows x 8 columns]"
            ],
            "text/html": [
              "\n",
              "  <div id=\"df-219ca7ca-ef75-4d37-9855-724991d00fbd\">\n",
              "    <div class=\"colab-df-container\">\n",
              "      <div>\n",
              "<style scoped>\n",
              "    .dataframe tbody tr th:only-of-type {\n",
              "        vertical-align: middle;\n",
              "    }\n",
              "\n",
              "    .dataframe tbody tr th {\n",
              "        vertical-align: top;\n",
              "    }\n",
              "\n",
              "    .dataframe thead th {\n",
              "        text-align: right;\n",
              "    }\n",
              "</style>\n",
              "<table border=\"1\" class=\"dataframe\">\n",
              "  <thead>\n",
              "    <tr style=\"text-align: right;\">\n",
              "      <th></th>\n",
              "      <th>account executive</th>\n",
              "      <th>area</th>\n",
              "      <th>work_modality</th>\n",
              "      <th>country</th>\n",
              "      <th>city</th>\n",
              "      <th>remote</th>\n",
              "      <th>vacancy_name</th>\n",
              "      <th>description</th>\n",
              "    </tr>\n",
              "  </thead>\n",
              "  <tbody>\n",
              "    <tr>\n",
              "      <th>1</th>\n",
              "      <td>50476.0</td>\n",
              "      <td>Mercadeo</td>\n",
              "      <td>Tiempo completo</td>\n",
              "      <td>MEXICO</td>\n",
              "      <td>San Pedro Garza Garcia</td>\n",
              "      <td>False</td>\n",
              "      <td>coordinador de marketing y publicidad</td>\n",
              "      <td>Empresa enfocada en estética médica y dermatol...</td>\n",
              "    </tr>\n",
              "    <tr>\n",
              "      <th>4</th>\n",
              "      <td>31068.0</td>\n",
              "      <td>Ventas Comercial</td>\n",
              "      <td>Tiempo completo</td>\n",
              "      <td>COLOMBIA</td>\n",
              "      <td>Medellin</td>\n",
              "      <td>False</td>\n",
              "      <td>asesor comercial con experiencia en ventas de ...</td>\n",
              "      <td>Tienda De Marca Deportiva Número 1 a Nivel Mu...</td>\n",
              "    </tr>\n",
              "    <tr>\n",
              "      <th>6</th>\n",
              "      <td>40686.0</td>\n",
              "      <td>Ventas Comercial</td>\n",
              "      <td>Tiempo completo</td>\n",
              "      <td>MEXICO</td>\n",
              "      <td>Ciudad de Mexico</td>\n",
              "      <td>True</td>\n",
              "      <td>senior director, mesoamerica</td>\n",
              "      <td>the rainforest alliance is creating a more sus...</td>\n",
              "    </tr>\n",
              "    <tr>\n",
              "      <th>9</th>\n",
              "      <td>58837.0</td>\n",
              "      <td>Mercadeo</td>\n",
              "      <td>Tiempo completo</td>\n",
              "      <td>MEXICO</td>\n",
              "      <td>Cuautitlan</td>\n",
              "      <td>False</td>\n",
              "      <td>trade marketing coordinator</td>\n",
              "      <td>Coordinador Trade Marketing\\n\\nTiempo Completo...</td>\n",
              "    </tr>\n",
              "    <tr>\n",
              "      <th>10</th>\n",
              "      <td>53382.0</td>\n",
              "      <td>Mercadeo</td>\n",
              "      <td>Tiempo completo</td>\n",
              "      <td>UNITED STATES</td>\n",
              "      <td>Wescosville</td>\n",
              "      <td>True</td>\n",
              "      <td>category manager</td>\n",
              "      <td>location: hanover, pa (logistic ctr), pennsylv...</td>\n",
              "    </tr>\n",
              "    <tr>\n",
              "      <th>...</th>\n",
              "      <td>...</td>\n",
              "      <td>...</td>\n",
              "      <td>...</td>\n",
              "      <td>...</td>\n",
              "      <td>...</td>\n",
              "      <td>...</td>\n",
              "      <td>...</td>\n",
              "      <td>...</td>\n",
              "    </tr>\n",
              "    <tr>\n",
              "      <th>9986</th>\n",
              "      <td>57179.0</td>\n",
              "      <td>Mercadeo</td>\n",
              "      <td>Tiempo completo</td>\n",
              "      <td>MEXICO</td>\n",
              "      <td>Ciudad de Mexico</td>\n",
              "      <td>True</td>\n",
              "      <td>marketing automation specialist</td>\n",
              "      <td>latam marketing automation specialist\\n\\n\\n\\n\\...</td>\n",
              "    </tr>\n",
              "    <tr>\n",
              "      <th>9987</th>\n",
              "      <td>29005.0</td>\n",
              "      <td>Ventas Comercial</td>\n",
              "      <td>Tiempo completo</td>\n",
              "      <td>COLOMBIA</td>\n",
              "      <td>Valledupar</td>\n",
              "      <td>False</td>\n",
              "      <td>coordinador comercial - valledupar</td>\n",
              "      <td>Importante empresa del sector de telecomunicac...</td>\n",
              "    </tr>\n",
              "    <tr>\n",
              "      <th>9989</th>\n",
              "      <td>34240.0</td>\n",
              "      <td>Ventas Comercial</td>\n",
              "      <td>Tiempo completo</td>\n",
              "      <td>COLOMBIA</td>\n",
              "      <td>Bogota</td>\n",
              "      <td>False</td>\n",
              "      <td>asesora ventas</td>\n",
              "      <td>somos thax diseñadores, nuestras tiendas reuni...</td>\n",
              "    </tr>\n",
              "    <tr>\n",
              "      <th>9993</th>\n",
              "      <td>31369.0</td>\n",
              "      <td>Ventas Comercial</td>\n",
              "      <td>Tiempo completo</td>\n",
              "      <td>COLOMBIA</td>\n",
              "      <td>Bogota</td>\n",
              "      <td>False</td>\n",
              "      <td>asesor comercial montblanc</td>\n",
              "      <td>Sobre la empresa\\n\\n\\n\\n\\nComercio al por meno...</td>\n",
              "    </tr>\n",
              "    <tr>\n",
              "      <th>9994</th>\n",
              "      <td>34170.0</td>\n",
              "      <td>Ventas Comercial</td>\n",
              "      <td>Tiempo completo</td>\n",
              "      <td>COLOMBIA</td>\n",
              "      <td>Bogota</td>\n",
              "      <td>False</td>\n",
              "      <td>consultor sap experiencia comercial</td>\n",
              "      <td>¡buscamos profesionales exitosos (as) como tú!...</td>\n",
              "    </tr>\n",
              "  </tbody>\n",
              "</table>\n",
              "<p>4815 rows × 8 columns</p>\n",
              "</div>\n",
              "      <button class=\"colab-df-convert\" onclick=\"convertToInteractive('df-219ca7ca-ef75-4d37-9855-724991d00fbd')\"\n",
              "              title=\"Convert this dataframe to an interactive table.\"\n",
              "              style=\"display:none;\">\n",
              "        \n",
              "  <svg xmlns=\"http://www.w3.org/2000/svg\" height=\"24px\"viewBox=\"0 0 24 24\"\n",
              "       width=\"24px\">\n",
              "    <path d=\"M0 0h24v24H0V0z\" fill=\"none\"/>\n",
              "    <path d=\"M18.56 5.44l.94 2.06.94-2.06 2.06-.94-2.06-.94-.94-2.06-.94 2.06-2.06.94zm-11 1L8.5 8.5l.94-2.06 2.06-.94-2.06-.94L8.5 2.5l-.94 2.06-2.06.94zm10 10l.94 2.06.94-2.06 2.06-.94-2.06-.94-.94-2.06-.94 2.06-2.06.94z\"/><path d=\"M17.41 7.96l-1.37-1.37c-.4-.4-.92-.59-1.43-.59-.52 0-1.04.2-1.43.59L10.3 9.45l-7.72 7.72c-.78.78-.78 2.05 0 2.83L4 21.41c.39.39.9.59 1.41.59.51 0 1.02-.2 1.41-.59l7.78-7.78 2.81-2.81c.8-.78.8-2.07 0-2.86zM5.41 20L4 18.59l7.72-7.72 1.47 1.35L5.41 20z\"/>\n",
              "  </svg>\n",
              "      </button>\n",
              "      \n",
              "  <style>\n",
              "    .colab-df-container {\n",
              "      display:flex;\n",
              "      flex-wrap:wrap;\n",
              "      gap: 12px;\n",
              "    }\n",
              "\n",
              "    .colab-df-convert {\n",
              "      background-color: #E8F0FE;\n",
              "      border: none;\n",
              "      border-radius: 50%;\n",
              "      cursor: pointer;\n",
              "      display: none;\n",
              "      fill: #1967D2;\n",
              "      height: 32px;\n",
              "      padding: 0 0 0 0;\n",
              "      width: 32px;\n",
              "    }\n",
              "\n",
              "    .colab-df-convert:hover {\n",
              "      background-color: #E2EBFA;\n",
              "      box-shadow: 0px 1px 2px rgba(60, 64, 67, 0.3), 0px 1px 3px 1px rgba(60, 64, 67, 0.15);\n",
              "      fill: #174EA6;\n",
              "    }\n",
              "\n",
              "    [theme=dark] .colab-df-convert {\n",
              "      background-color: #3B4455;\n",
              "      fill: #D2E3FC;\n",
              "    }\n",
              "\n",
              "    [theme=dark] .colab-df-convert:hover {\n",
              "      background-color: #434B5C;\n",
              "      box-shadow: 0px 1px 3px 1px rgba(0, 0, 0, 0.15);\n",
              "      filter: drop-shadow(0px 1px 2px rgba(0, 0, 0, 0.3));\n",
              "      fill: #FFFFFF;\n",
              "    }\n",
              "  </style>\n",
              "\n",
              "      <script>\n",
              "        const buttonEl =\n",
              "          document.querySelector('#df-219ca7ca-ef75-4d37-9855-724991d00fbd button.colab-df-convert');\n",
              "        buttonEl.style.display =\n",
              "          google.colab.kernel.accessAllowed ? 'block' : 'none';\n",
              "\n",
              "        async function convertToInteractive(key) {\n",
              "          const element = document.querySelector('#df-219ca7ca-ef75-4d37-9855-724991d00fbd');\n",
              "          const dataTable =\n",
              "            await google.colab.kernel.invokeFunction('convertToInteractive',\n",
              "                                                     [key], {});\n",
              "          if (!dataTable) return;\n",
              "\n",
              "          const docLinkHtml = 'Like what you see? Visit the ' +\n",
              "            '<a target=\"_blank\" href=https://colab.research.google.com/notebooks/data_table.ipynb>data table notebook</a>'\n",
              "            + ' to learn more about interactive tables.';\n",
              "          element.innerHTML = '';\n",
              "          dataTable['output_type'] = 'display_data';\n",
              "          await google.colab.output.renderOutput(dataTable, element);\n",
              "          const docLink = document.createElement('div');\n",
              "          docLink.innerHTML = docLinkHtml;\n",
              "          element.appendChild(docLink);\n",
              "        }\n",
              "      </script>\n",
              "    </div>\n",
              "  </div>\n",
              "  "
            ]
          },
          "metadata": {},
          "execution_count": 107
        }
      ]
    },
    {
      "cell_type": "markdown",
      "source": [
        "# Normalize_cols"
      ],
      "metadata": {
        "id": "23281fe0-ec5d-4482-a4b2-51a722e2aeac"
      }
    },
    {
      "cell_type": "code",
      "execution_count": null,
      "metadata": {
        "id": "5b5b7022-0b7c-439c-a96b-93d5479b3e46"
      },
      "outputs": [],
      "source": [
        "def remove_accents_cols(df_cols):\n",
        "    return df_cols.str.replace('ñ','ni').str.normalize('NFKD').str.encode('ascii', errors='ignore').str.decode('utf-8')\n",
        "def remove_special_chars(df_cols):\n",
        "    return df_cols.str.replace(r'[$@&/.:-]',' ', regex=True)\n",
        "def regular_camel_case(snake_str):\n",
        "    components = snake_str.split('_')\n",
        "    return components[0] + ''.join(x.title() for x in components[1:])\n",
        "def regular_snake_case(df_cols):\n",
        "    cols = df_cols.str.replace('ñ','ni')\n",
        "    cols = cols.str.lower().str.replace('/',' ').str.replace('.',' ').str.strip()\n",
        "    cols = cols.str.replace(r'\\s+',' ',regex=True)\n",
        "    cols = cols.str.replace(' ','_')\n",
        "    return cols"
      ]
    },
    {
      "cell_type": "code",
      "execution_count": null,
      "metadata": {
        "id": "a2ea6ef8-12a2-4125-a100-18670cec3453",
        "colab": {
          "base_uri": "https://localhost:8080/"
        },
        "outputId": "cbd5ab91-6f0c-4e7b-f10a-84ec801c381e"
      },
      "outputs": [
        {
          "output_type": "stream",
          "name": "stderr",
          "text": [
            "<ipython-input-108-9b778f042fff>:10: FutureWarning: The default value of regex will change from True to False in a future version. In addition, single character regular expressions will *not* be treated as literal strings when regex=True.\n",
            "  cols = cols.str.lower().str.replace('/',' ').str.replace('.',' ').str.strip()\n"
          ]
        }
      ],
      "source": [
        "df.columns = remove_accents_cols(df.columns)\n",
        "df.columns = remove_special_chars(df.columns)\n",
        "df.columns = regular_snake_case(df.columns)"
      ]
    },
    {
      "cell_type": "code",
      "execution_count": null,
      "metadata": {
        "id": "ce7c7231-2f23-4464-96f4-929c60c1060f",
        "colab": {
          "base_uri": "https://localhost:8080/",
          "height": 424
        },
        "outputId": "2f5468fd-93b2-4dd7-eaed-8ae91c3ca079"
      },
      "outputs": [
        {
          "output_type": "execute_result",
          "data": {
            "text/plain": [
              "      account_executive              area    work_modality   country  \\\n",
              "0                   NaN  Ventas Comercial  Tiempo completo    MEXICO   \n",
              "1               50476.0          Mercadeo  Tiempo completo    MEXICO   \n",
              "2               35784.0  Ventas Comercial              NaN             \n",
              "3               55829.0          Mercadeo  Tiempo completo       NaN   \n",
              "4               31068.0  Ventas Comercial  Tiempo completo  COLOMBIA   \n",
              "...                 ...               ...              ...       ...   \n",
              "9995            35850.0  Ventas Comercial              NaN       NaN   \n",
              "9996            56434.0          Mercadeo  Tiempo completo       NaN   \n",
              "9997              478.0               NaN  Tiempo completo       NaN   \n",
              "9998            65986.0  Recursos Humanos  Tiempo completo       NaN   \n",
              "9999            15027.0               NaN  Tiempo completo  COLOMBIA   \n",
              "\n",
              "                        city  remote  \\\n",
              "0           Ciudad de Mexico   False   \n",
              "1     San Pedro Garza Garcia   False   \n",
              "2                        NaN   False   \n",
              "3                        NaN   False   \n",
              "4                   Medellin   False   \n",
              "...                      ...     ...   \n",
              "9995                     NaN   False   \n",
              "9996                     NaN    True   \n",
              "9997                     NaN   False   \n",
              "9998                     NaN    True   \n",
              "9999                  Bogota   False   \n",
              "\n",
              "                                           vacancy_name  \\\n",
              "0                                     account executive   \n",
              "1                 coordinador de marketing y publicidad   \n",
              "2     Ejecutivo de Ventas y Servicio Medellín - 02 d...   \n",
              "3                                     desarrollador web   \n",
              "4     asesor comercial con experiencia en ventas de ...   \n",
              "...                                                 ...   \n",
              "9995                  COLOMBIA - Coordinador Senior COE   \n",
              "9996                         manager, digital marketing   \n",
              "9997                        director de nuevos negocios   \n",
              "9998                              sr recruiter - mexico   \n",
              "9999                   especialista de gestión efectiva   \n",
              "\n",
              "                                            description  \n",
              "0     Are you looking for a challenging opportunity ...  \n",
              "1     Empresa enfocada en estética médica y dermatol...  \n",
              "2     Sobre el cargo\\nEstamos en la búsqueda de WOMe...  \n",
              "3     Gen TI Consulting Somos una empresa mexicana, ...  \n",
              "4     Tienda De Marca Deportiva Número 1 a Nivel Mu...  \n",
              "...                                                 ...  \n",
              "9995  Reporta a: COE Manager\\nLinio es la tienda en ...  \n",
              "9996  position title: manager, digital marketing\\n\\n...  \n",
              "9997  importante empresa del sectorrequieredirector ...  \n",
              "9998  location: 100% remotee in mexico – proficient ...  \n",
              "9999  ¡únete a la institución n°1 en microfinanzas d...  \n",
              "\n",
              "[10000 rows x 8 columns]"
            ],
            "text/html": [
              "\n",
              "  <div id=\"df-e32980b9-ebaf-4c24-b462-d02bb5f3ccdb\">\n",
              "    <div class=\"colab-df-container\">\n",
              "      <div>\n",
              "<style scoped>\n",
              "    .dataframe tbody tr th:only-of-type {\n",
              "        vertical-align: middle;\n",
              "    }\n",
              "\n",
              "    .dataframe tbody tr th {\n",
              "        vertical-align: top;\n",
              "    }\n",
              "\n",
              "    .dataframe thead th {\n",
              "        text-align: right;\n",
              "    }\n",
              "</style>\n",
              "<table border=\"1\" class=\"dataframe\">\n",
              "  <thead>\n",
              "    <tr style=\"text-align: right;\">\n",
              "      <th></th>\n",
              "      <th>account_executive</th>\n",
              "      <th>area</th>\n",
              "      <th>work_modality</th>\n",
              "      <th>country</th>\n",
              "      <th>city</th>\n",
              "      <th>remote</th>\n",
              "      <th>vacancy_name</th>\n",
              "      <th>description</th>\n",
              "    </tr>\n",
              "  </thead>\n",
              "  <tbody>\n",
              "    <tr>\n",
              "      <th>0</th>\n",
              "      <td>NaN</td>\n",
              "      <td>Ventas Comercial</td>\n",
              "      <td>Tiempo completo</td>\n",
              "      <td>MEXICO</td>\n",
              "      <td>Ciudad de Mexico</td>\n",
              "      <td>False</td>\n",
              "      <td>account executive</td>\n",
              "      <td>Are you looking for a challenging opportunity ...</td>\n",
              "    </tr>\n",
              "    <tr>\n",
              "      <th>1</th>\n",
              "      <td>50476.0</td>\n",
              "      <td>Mercadeo</td>\n",
              "      <td>Tiempo completo</td>\n",
              "      <td>MEXICO</td>\n",
              "      <td>San Pedro Garza Garcia</td>\n",
              "      <td>False</td>\n",
              "      <td>coordinador de marketing y publicidad</td>\n",
              "      <td>Empresa enfocada en estética médica y dermatol...</td>\n",
              "    </tr>\n",
              "    <tr>\n",
              "      <th>2</th>\n",
              "      <td>35784.0</td>\n",
              "      <td>Ventas Comercial</td>\n",
              "      <td>NaN</td>\n",
              "      <td></td>\n",
              "      <td>NaN</td>\n",
              "      <td>False</td>\n",
              "      <td>Ejecutivo de Ventas y Servicio Medellín - 02 d...</td>\n",
              "      <td>Sobre el cargo\\nEstamos en la búsqueda de WOMe...</td>\n",
              "    </tr>\n",
              "    <tr>\n",
              "      <th>3</th>\n",
              "      <td>55829.0</td>\n",
              "      <td>Mercadeo</td>\n",
              "      <td>Tiempo completo</td>\n",
              "      <td>NaN</td>\n",
              "      <td>NaN</td>\n",
              "      <td>False</td>\n",
              "      <td>desarrollador web</td>\n",
              "      <td>Gen TI Consulting Somos una empresa mexicana, ...</td>\n",
              "    </tr>\n",
              "    <tr>\n",
              "      <th>4</th>\n",
              "      <td>31068.0</td>\n",
              "      <td>Ventas Comercial</td>\n",
              "      <td>Tiempo completo</td>\n",
              "      <td>COLOMBIA</td>\n",
              "      <td>Medellin</td>\n",
              "      <td>False</td>\n",
              "      <td>asesor comercial con experiencia en ventas de ...</td>\n",
              "      <td>Tienda De Marca Deportiva Número 1 a Nivel Mu...</td>\n",
              "    </tr>\n",
              "    <tr>\n",
              "      <th>...</th>\n",
              "      <td>...</td>\n",
              "      <td>...</td>\n",
              "      <td>...</td>\n",
              "      <td>...</td>\n",
              "      <td>...</td>\n",
              "      <td>...</td>\n",
              "      <td>...</td>\n",
              "      <td>...</td>\n",
              "    </tr>\n",
              "    <tr>\n",
              "      <th>9995</th>\n",
              "      <td>35850.0</td>\n",
              "      <td>Ventas Comercial</td>\n",
              "      <td>NaN</td>\n",
              "      <td>NaN</td>\n",
              "      <td>NaN</td>\n",
              "      <td>False</td>\n",
              "      <td>COLOMBIA - Coordinador Senior COE</td>\n",
              "      <td>Reporta a: COE Manager\\nLinio es la tienda en ...</td>\n",
              "    </tr>\n",
              "    <tr>\n",
              "      <th>9996</th>\n",
              "      <td>56434.0</td>\n",
              "      <td>Mercadeo</td>\n",
              "      <td>Tiempo completo</td>\n",
              "      <td>NaN</td>\n",
              "      <td>NaN</td>\n",
              "      <td>True</td>\n",
              "      <td>manager, digital marketing</td>\n",
              "      <td>position title: manager, digital marketing\\n\\n...</td>\n",
              "    </tr>\n",
              "    <tr>\n",
              "      <th>9997</th>\n",
              "      <td>478.0</td>\n",
              "      <td>NaN</td>\n",
              "      <td>Tiempo completo</td>\n",
              "      <td>NaN</td>\n",
              "      <td>NaN</td>\n",
              "      <td>False</td>\n",
              "      <td>director de nuevos negocios</td>\n",
              "      <td>importante empresa del sectorrequieredirector ...</td>\n",
              "    </tr>\n",
              "    <tr>\n",
              "      <th>9998</th>\n",
              "      <td>65986.0</td>\n",
              "      <td>Recursos Humanos</td>\n",
              "      <td>Tiempo completo</td>\n",
              "      <td>NaN</td>\n",
              "      <td>NaN</td>\n",
              "      <td>True</td>\n",
              "      <td>sr recruiter - mexico</td>\n",
              "      <td>location: 100% remotee in mexico – proficient ...</td>\n",
              "    </tr>\n",
              "    <tr>\n",
              "      <th>9999</th>\n",
              "      <td>15027.0</td>\n",
              "      <td>NaN</td>\n",
              "      <td>Tiempo completo</td>\n",
              "      <td>COLOMBIA</td>\n",
              "      <td>Bogota</td>\n",
              "      <td>False</td>\n",
              "      <td>especialista de gestión efectiva</td>\n",
              "      <td>¡únete a la institución n°1 en microfinanzas d...</td>\n",
              "    </tr>\n",
              "  </tbody>\n",
              "</table>\n",
              "<p>10000 rows × 8 columns</p>\n",
              "</div>\n",
              "      <button class=\"colab-df-convert\" onclick=\"convertToInteractive('df-e32980b9-ebaf-4c24-b462-d02bb5f3ccdb')\"\n",
              "              title=\"Convert this dataframe to an interactive table.\"\n",
              "              style=\"display:none;\">\n",
              "        \n",
              "  <svg xmlns=\"http://www.w3.org/2000/svg\" height=\"24px\"viewBox=\"0 0 24 24\"\n",
              "       width=\"24px\">\n",
              "    <path d=\"M0 0h24v24H0V0z\" fill=\"none\"/>\n",
              "    <path d=\"M18.56 5.44l.94 2.06.94-2.06 2.06-.94-2.06-.94-.94-2.06-.94 2.06-2.06.94zm-11 1L8.5 8.5l.94-2.06 2.06-.94-2.06-.94L8.5 2.5l-.94 2.06-2.06.94zm10 10l.94 2.06.94-2.06 2.06-.94-2.06-.94-.94-2.06-.94 2.06-2.06.94z\"/><path d=\"M17.41 7.96l-1.37-1.37c-.4-.4-.92-.59-1.43-.59-.52 0-1.04.2-1.43.59L10.3 9.45l-7.72 7.72c-.78.78-.78 2.05 0 2.83L4 21.41c.39.39.9.59 1.41.59.51 0 1.02-.2 1.41-.59l7.78-7.78 2.81-2.81c.8-.78.8-2.07 0-2.86zM5.41 20L4 18.59l7.72-7.72 1.47 1.35L5.41 20z\"/>\n",
              "  </svg>\n",
              "      </button>\n",
              "      \n",
              "  <style>\n",
              "    .colab-df-container {\n",
              "      display:flex;\n",
              "      flex-wrap:wrap;\n",
              "      gap: 12px;\n",
              "    }\n",
              "\n",
              "    .colab-df-convert {\n",
              "      background-color: #E8F0FE;\n",
              "      border: none;\n",
              "      border-radius: 50%;\n",
              "      cursor: pointer;\n",
              "      display: none;\n",
              "      fill: #1967D2;\n",
              "      height: 32px;\n",
              "      padding: 0 0 0 0;\n",
              "      width: 32px;\n",
              "    }\n",
              "\n",
              "    .colab-df-convert:hover {\n",
              "      background-color: #E2EBFA;\n",
              "      box-shadow: 0px 1px 2px rgba(60, 64, 67, 0.3), 0px 1px 3px 1px rgba(60, 64, 67, 0.15);\n",
              "      fill: #174EA6;\n",
              "    }\n",
              "\n",
              "    [theme=dark] .colab-df-convert {\n",
              "      background-color: #3B4455;\n",
              "      fill: #D2E3FC;\n",
              "    }\n",
              "\n",
              "    [theme=dark] .colab-df-convert:hover {\n",
              "      background-color: #434B5C;\n",
              "      box-shadow: 0px 1px 3px 1px rgba(0, 0, 0, 0.15);\n",
              "      filter: drop-shadow(0px 1px 2px rgba(0, 0, 0, 0.3));\n",
              "      fill: #FFFFFF;\n",
              "    }\n",
              "  </style>\n",
              "\n",
              "      <script>\n",
              "        const buttonEl =\n",
              "          document.querySelector('#df-e32980b9-ebaf-4c24-b462-d02bb5f3ccdb button.colab-df-convert');\n",
              "        buttonEl.style.display =\n",
              "          google.colab.kernel.accessAllowed ? 'block' : 'none';\n",
              "\n",
              "        async function convertToInteractive(key) {\n",
              "          const element = document.querySelector('#df-e32980b9-ebaf-4c24-b462-d02bb5f3ccdb');\n",
              "          const dataTable =\n",
              "            await google.colab.kernel.invokeFunction('convertToInteractive',\n",
              "                                                     [key], {});\n",
              "          if (!dataTable) return;\n",
              "\n",
              "          const docLinkHtml = 'Like what you see? Visit the ' +\n",
              "            '<a target=\"_blank\" href=https://colab.research.google.com/notebooks/data_table.ipynb>data table notebook</a>'\n",
              "            + ' to learn more about interactive tables.';\n",
              "          element.innerHTML = '';\n",
              "          dataTable['output_type'] = 'display_data';\n",
              "          await google.colab.output.renderOutput(dataTable, element);\n",
              "          const docLink = document.createElement('div');\n",
              "          docLink.innerHTML = docLinkHtml;\n",
              "          element.appendChild(docLink);\n",
              "        }\n",
              "      </script>\n",
              "    </div>\n",
              "  </div>\n",
              "  "
            ]
          },
          "metadata": {},
          "execution_count": 110
        }
      ],
      "source": [
        "df"
      ]
    },
    {
      "cell_type": "markdown",
      "source": [
        "# General stats cells"
      ],
      "metadata": {
        "id": "db9d8b7d-67a5-4f4b-84ee-c8d912a42b1b"
      }
    },
    {
      "cell_type": "code",
      "execution_count": null,
      "metadata": {
        "id": "f754c855-c6fc-4fbd-8b06-18d261f4df7b",
        "colab": {
          "base_uri": "https://localhost:8080/"
        },
        "outputId": "4a58775e-b48b-4d21-c862-315ba7be1998"
      },
      "outputs": [
        {
          "output_type": "execute_result",
          "data": {
            "text/plain": [
              "       account_executive\n",
              "count        9999.000000\n",
              "mean        37137.348235\n",
              "std         18077.717733\n",
              "min             5.000000\n",
              "25%         23967.500000\n",
              "50%         38651.000000\n",
              "75%         52177.000000\n",
              "max         65989.000000"
            ],
            "text/html": [
              "\n",
              "  <div id=\"df-e3dcd369-fc21-404d-9056-0332a9eef4a3\">\n",
              "    <div class=\"colab-df-container\">\n",
              "      <div>\n",
              "<style scoped>\n",
              "    .dataframe tbody tr th:only-of-type {\n",
              "        vertical-align: middle;\n",
              "    }\n",
              "\n",
              "    .dataframe tbody tr th {\n",
              "        vertical-align: top;\n",
              "    }\n",
              "\n",
              "    .dataframe thead th {\n",
              "        text-align: right;\n",
              "    }\n",
              "</style>\n",
              "<table border=\"1\" class=\"dataframe\">\n",
              "  <thead>\n",
              "    <tr style=\"text-align: right;\">\n",
              "      <th></th>\n",
              "      <th>account_executive</th>\n",
              "    </tr>\n",
              "  </thead>\n",
              "  <tbody>\n",
              "    <tr>\n",
              "      <th>count</th>\n",
              "      <td>9999.000000</td>\n",
              "    </tr>\n",
              "    <tr>\n",
              "      <th>mean</th>\n",
              "      <td>37137.348235</td>\n",
              "    </tr>\n",
              "    <tr>\n",
              "      <th>std</th>\n",
              "      <td>18077.717733</td>\n",
              "    </tr>\n",
              "    <tr>\n",
              "      <th>min</th>\n",
              "      <td>5.000000</td>\n",
              "    </tr>\n",
              "    <tr>\n",
              "      <th>25%</th>\n",
              "      <td>23967.500000</td>\n",
              "    </tr>\n",
              "    <tr>\n",
              "      <th>50%</th>\n",
              "      <td>38651.000000</td>\n",
              "    </tr>\n",
              "    <tr>\n",
              "      <th>75%</th>\n",
              "      <td>52177.000000</td>\n",
              "    </tr>\n",
              "    <tr>\n",
              "      <th>max</th>\n",
              "      <td>65989.000000</td>\n",
              "    </tr>\n",
              "  </tbody>\n",
              "</table>\n",
              "</div>\n",
              "      <button class=\"colab-df-convert\" onclick=\"convertToInteractive('df-e3dcd369-fc21-404d-9056-0332a9eef4a3')\"\n",
              "              title=\"Convert this dataframe to an interactive table.\"\n",
              "              style=\"display:none;\">\n",
              "        \n",
              "  <svg xmlns=\"http://www.w3.org/2000/svg\" height=\"24px\"viewBox=\"0 0 24 24\"\n",
              "       width=\"24px\">\n",
              "    <path d=\"M0 0h24v24H0V0z\" fill=\"none\"/>\n",
              "    <path d=\"M18.56 5.44l.94 2.06.94-2.06 2.06-.94-2.06-.94-.94-2.06-.94 2.06-2.06.94zm-11 1L8.5 8.5l.94-2.06 2.06-.94-2.06-.94L8.5 2.5l-.94 2.06-2.06.94zm10 10l.94 2.06.94-2.06 2.06-.94-2.06-.94-.94-2.06-.94 2.06-2.06.94z\"/><path d=\"M17.41 7.96l-1.37-1.37c-.4-.4-.92-.59-1.43-.59-.52 0-1.04.2-1.43.59L10.3 9.45l-7.72 7.72c-.78.78-.78 2.05 0 2.83L4 21.41c.39.39.9.59 1.41.59.51 0 1.02-.2 1.41-.59l7.78-7.78 2.81-2.81c.8-.78.8-2.07 0-2.86zM5.41 20L4 18.59l7.72-7.72 1.47 1.35L5.41 20z\"/>\n",
              "  </svg>\n",
              "      </button>\n",
              "      \n",
              "  <style>\n",
              "    .colab-df-container {\n",
              "      display:flex;\n",
              "      flex-wrap:wrap;\n",
              "      gap: 12px;\n",
              "    }\n",
              "\n",
              "    .colab-df-convert {\n",
              "      background-color: #E8F0FE;\n",
              "      border: none;\n",
              "      border-radius: 50%;\n",
              "      cursor: pointer;\n",
              "      display: none;\n",
              "      fill: #1967D2;\n",
              "      height: 32px;\n",
              "      padding: 0 0 0 0;\n",
              "      width: 32px;\n",
              "    }\n",
              "\n",
              "    .colab-df-convert:hover {\n",
              "      background-color: #E2EBFA;\n",
              "      box-shadow: 0px 1px 2px rgba(60, 64, 67, 0.3), 0px 1px 3px 1px rgba(60, 64, 67, 0.15);\n",
              "      fill: #174EA6;\n",
              "    }\n",
              "\n",
              "    [theme=dark] .colab-df-convert {\n",
              "      background-color: #3B4455;\n",
              "      fill: #D2E3FC;\n",
              "    }\n",
              "\n",
              "    [theme=dark] .colab-df-convert:hover {\n",
              "      background-color: #434B5C;\n",
              "      box-shadow: 0px 1px 3px 1px rgba(0, 0, 0, 0.15);\n",
              "      filter: drop-shadow(0px 1px 2px rgba(0, 0, 0, 0.3));\n",
              "      fill: #FFFFFF;\n",
              "    }\n",
              "  </style>\n",
              "\n",
              "      <script>\n",
              "        const buttonEl =\n",
              "          document.querySelector('#df-e3dcd369-fc21-404d-9056-0332a9eef4a3 button.colab-df-convert');\n",
              "        buttonEl.style.display =\n",
              "          google.colab.kernel.accessAllowed ? 'block' : 'none';\n",
              "\n",
              "        async function convertToInteractive(key) {\n",
              "          const element = document.querySelector('#df-e3dcd369-fc21-404d-9056-0332a9eef4a3');\n",
              "          const dataTable =\n",
              "            await google.colab.kernel.invokeFunction('convertToInteractive',\n",
              "                                                     [key], {});\n",
              "          if (!dataTable) return;\n",
              "\n",
              "          const docLinkHtml = 'Like what you see? Visit the ' +\n",
              "            '<a target=\"_blank\" href=https://colab.research.google.com/notebooks/data_table.ipynb>data table notebook</a>'\n",
              "            + ' to learn more about interactive tables.';\n",
              "          element.innerHTML = '';\n",
              "          dataTable['output_type'] = 'display_data';\n",
              "          await google.colab.output.renderOutput(dataTable, element);\n",
              "          const docLink = document.createElement('div');\n",
              "          docLink.innerHTML = docLinkHtml;\n",
              "          element.appendChild(docLink);\n",
              "        }\n",
              "      </script>\n",
              "    </div>\n",
              "  </div>\n",
              "  "
            ]
          },
          "metadata": {},
          "execution_count": 111
        }
      ],
      "source": [
        "df.describe()"
      ]
    },
    {
      "cell_type": "code",
      "execution_count": null,
      "metadata": {
        "id": "0ea1e570-419d-4cd6-8598-9490eb64ce9b",
        "colab": {
          "base_uri": "https://localhost:8080/"
        },
        "outputId": "59a706bb-619a-4b0f-ed03-b5cd7995da7e"
      },
      "outputs": [
        {
          "output_type": "execute_result",
          "data": {
            "text/plain": [
              "account_executive    float64\n",
              "area                  object\n",
              "work_modality         object\n",
              "country               object\n",
              "city                  object\n",
              "remote                  bool\n",
              "vacancy_name          object\n",
              "description           object\n",
              "dtype: object"
            ]
          },
          "metadata": {},
          "execution_count": 112
        }
      ],
      "source": [
        "df.dtypes\n"
      ]
    },
    {
      "cell_type": "code",
      "execution_count": null,
      "metadata": {
        "id": "d3754b7a-35d9-4fbe-b979-4f294e71a90b",
        "colab": {
          "base_uri": "https://localhost:8080/"
        },
        "outputId": "e4930888-275b-4508-b69a-9afc500e6f6d"
      },
      "outputs": [
        {
          "output_type": "stream",
          "name": "stdout",
          "text": [
            "<class 'pandas.core.frame.DataFrame'>\n",
            "RangeIndex: 10000 entries, 0 to 9999\n",
            "Data columns (total 8 columns):\n",
            " #   Column             Non-Null Count  Dtype  \n",
            "---  ------             --------------  -----  \n",
            " 0   account_executive  9999 non-null   float64\n",
            " 1   area               7461 non-null   object \n",
            " 2   work_modality      9560 non-null   object \n",
            " 3   country            6530 non-null   object \n",
            " 4   city               6529 non-null   object \n",
            " 5   remote             10000 non-null  bool   \n",
            " 6   vacancy_name       10000 non-null  object \n",
            " 7   description        10000 non-null  object \n",
            "dtypes: bool(1), float64(1), object(6)\n",
            "memory usage: 556.8+ KB\n"
          ]
        }
      ],
      "source": [
        "df.info()"
      ]
    },
    {
      "cell_type": "code",
      "execution_count": null,
      "metadata": {
        "id": "6c3e380b-e899-4b86-b6a0-8630a3d1c43b",
        "colab": {
          "base_uri": "https://localhost:8080/"
        },
        "outputId": "cbf2726e-375d-42a2-a2a3-9af09ae8292b"
      },
      "outputs": [
        {
          "output_type": "stream",
          "name": "stdout",
          "text": [
            "recuento de columnas por tipo:  object     6\n",
            "float64    1\n",
            "bool       1\n",
            "dtype: int64\n",
            "sumatoria de valores nulos en el dataframe:  account_executive       1\n",
            "area                 2539\n",
            "work_modality         440\n",
            "country              3470\n",
            "city                 3471\n",
            "remote                  0\n",
            "vacancy_name            0\n",
            "description             0\n",
            "dtype: int64\n"
          ]
        }
      ],
      "source": [
        "print('recuento de columnas por tipo: ', df.dtypes.value_counts())\n",
        "print('sumatoria de valores nulos en el dataframe: ', df.isna().sum())"
      ]
    },
    {
      "cell_type": "markdown",
      "source": [
        "# General Analyst by columns"
      ],
      "metadata": {
        "id": "4c2fd06d-59fb-4c4b-b19d-b0be7e200504"
      }
    },
    {
      "cell_type": "markdown",
      "source": [
        "## account_executive\n",
        "type: float64"
      ],
      "metadata": {
        "id": "0bb9be1f-613a-43c4-98e9-f2cd81cdf693"
      }
    },
    {
      "cell_type": "code",
      "execution_count": null,
      "metadata": {
        "id": "c56a1c98-1805-41a5-b888-1cdbe59d0cad"
      },
      "outputs": [],
      "source": [
        "df['account_executive'] = pd.to_numeric(df[f'account_executive'], errors='coerce')"
      ]
    },
    {
      "cell_type": "code",
      "source": [
        "df.account_executive.nunique()"
      ],
      "metadata": {
        "colab": {
          "base_uri": "https://localhost:8080/"
        },
        "id": "aEbDu4OMDa_6",
        "outputId": "9e247a7d-26ae-4ce3-fed0-94af2bd6c384"
      },
      "execution_count": null,
      "outputs": [
        {
          "output_type": "execute_result",
          "data": {
            "text/plain": [
              "9999"
            ]
          },
          "metadata": {},
          "execution_count": 116
        }
      ]
    },
    {
      "cell_type": "markdown",
      "source": [
        "## area\n",
        "type: object"
      ],
      "metadata": {
        "id": "ff4a5f3d-a718-4a51-8c46-d08092ef0c71"
      }
    },
    {
      "cell_type": "code",
      "execution_count": null,
      "metadata": {
        "id": "701176e8-99f8-41b7-876d-c5df6915021c",
        "colab": {
          "base_uri": "https://localhost:8080/"
        },
        "outputId": "2db7b3d1-3e5c-4f82-9226-f578a07836d2"
      },
      "outputs": [
        {
          "output_type": "stream",
          "name": "stderr",
          "text": [
            "<ipython-input-117-c3d5cb09d4b9>:2: FutureWarning: The default value of regex will change from True to False in a future version.\n",
            "  df['area'] = df['area'].str.replace('.0','')\n"
          ]
        },
        {
          "output_type": "execute_result",
          "data": {
            "text/plain": [
              "array(['Ventas Comercial', 'Mercadeo', 'nan', 'Recursos Humanos'],\n",
              "      dtype=object)"
            ]
          },
          "metadata": {},
          "execution_count": 117
        }
      ],
      "source": [
        "df['area'] = df['area'].astype(str)\n",
        "df['area'] = df['area'].str.replace('.0','')\n",
        "df['area'].unique()"
      ]
    },
    {
      "cell_type": "code",
      "execution_count": null,
      "metadata": {
        "id": "04267b3b-680a-43c3-9c44-8763884997ea",
        "colab": {
          "base_uri": "https://localhost:8080/"
        },
        "outputId": "673d372a-1175-417f-95c1-b24804564645"
      },
      "outputs": [
        {
          "output_type": "execute_result",
          "data": {
            "text/plain": [
              "Ventas Comercial    4192\n",
              "Mercadeo            2555\n",
              "nan                 2539\n",
              "Recursos Humanos     714\n",
              "Name: area, dtype: int64"
            ]
          },
          "metadata": {},
          "execution_count": 118
        }
      ],
      "source": [
        "df['area'].value_counts()"
      ]
    },
    {
      "cell_type": "code",
      "execution_count": null,
      "metadata": {
        "id": "a5e76c92-19b9-4f26-a2ba-b46b0238c3ad",
        "colab": {
          "base_uri": "https://localhost:8080/",
          "height": 439
        },
        "outputId": "649f6d75-b22e-4dd0-f9f8-905e0c07e87d"
      },
      "outputs": [
        {
          "output_type": "execute_result",
          "data": {
            "text/plain": [
              "<Axes: ylabel='area'>"
            ]
          },
          "metadata": {},
          "execution_count": 119
        },
        {
          "output_type": "display_data",
          "data": {
            "text/plain": [
              "<Figure size 1000x500 with 1 Axes>"
            ],
            "image/png": "[encoded data removed]"
          },
          "metadata": {}
        }
      ],
      "source": [
        "plt.figure(figsize=(10,5))\n",
        "df['area'].value_counts()[:15].plot(kind='pie')"
      ]
    },
    {
      "cell_type": "code",
      "execution_count": null,
      "metadata": {
        "id": "0abb17dc-9971-4ba3-8e77-95d3563dbf3d",
        "colab": {
          "base_uri": "https://localhost:8080/"
        },
        "outputId": "04a85193-b032-4a34-d08d-caf03b8ea366"
      },
      "outputs": [
        {
          "output_type": "execute_result",
          "data": {
            "text/plain": [
              "<Axes: >"
            ]
          },
          "metadata": {},
          "execution_count": 120
        },
        {
          "output_type": "display_data",
          "data": {
            "text/plain": [
              "<Figure size 3000x500 with 1 Axes>"
            ],
            "image/png": "[encoded data removed]"
          },
          "metadata": {}
        }
      ],
      "source": [
        "plt.figure(figsize=(30,5))\n",
        "df['area'].value_counts()[:15].plot(kind='barh')"
      ]
    },
    {
      "cell_type": "markdown",
      "source": [
        "## work_modality\n",
        "type: object"
      ],
      "metadata": {
        "id": "18945914-4631-4dd0-9f41-9c2da83a8cba"
      }
    },
    {
      "cell_type": "code",
      "execution_count": null,
      "metadata": {
        "id": "6b137901-e582-44a8-869b-6893fa457f74",
        "colab": {
          "base_uri": "https://localhost:8080/"
        },
        "outputId": "6c47ad10-06c3-4858-eea1-bfc8ad2b5f79"
      },
      "outputs": [
        {
          "output_type": "stream",
          "name": "stderr",
          "text": [
            "<ipython-input-121-acbd8ff6ec11>:2: FutureWarning: The default value of regex will change from True to False in a future version.\n",
            "  df['work_modality'] = df['work_modality'].str.replace('.0','')\n"
          ]
        },
        {
          "output_type": "execute_result",
          "data": {
            "text/plain": [
              "array(['Tiempo completo', 'nan', 'Indiferente', 'Prácticas Laborales',\n",
              "       'Medio tiempo'], dtype=object)"
            ]
          },
          "metadata": {},
          "execution_count": 121
        }
      ],
      "source": [
        "df['work_modality'] = df['work_modality'].astype(str)\n",
        "df['work_modality'] = df['work_modality'].str.replace('.0','')\n",
        "df['work_modality'].unique()"
      ]
    },
    {
      "cell_type": "code",
      "execution_count": null,
      "metadata": {
        "id": "422bb76a-e371-4055-8749-f29da7714938",
        "colab": {
          "base_uri": "https://localhost:8080/"
        },
        "outputId": "c18b0f41-bcb8-4341-ff05-3022eaddada6"
      },
      "outputs": [
        {
          "output_type": "execute_result",
          "data": {
            "text/plain": [
              "Tiempo completo        9193\n",
              "nan                     440\n",
              "Indiferente             363\n",
              "Prácticas Laborales       3\n",
              "Medio tiempo              1\n",
              "Name: work_modality, dtype: int64"
            ]
          },
          "metadata": {},
          "execution_count": 122
        }
      ],
      "source": [
        "df['work_modality'].value_counts()"
      ]
    },
    {
      "cell_type": "code",
      "execution_count": null,
      "metadata": {
        "id": "0962fde5-539c-402c-9d35-e91b738a606a",
        "colab": {
          "base_uri": "https://localhost:8080/",
          "height": 412
        },
        "outputId": "5fb68763-2328-4c64-f7d1-1a388ab34d6b"
      },
      "outputs": [
        {
          "output_type": "execute_result",
          "data": {
            "text/plain": [
              "<Axes: >"
            ]
          },
          "metadata": {},
          "execution_count": 123
        },
        {
          "output_type": "display_data",
          "data": {
            "text/plain": [
              "<Figure size 3000x500 with 1 Axes>"
            ],
            "image/png": "[encoded data removed]"
          },
          "metadata": {}
        }
      ],
      "source": [
        "plt.figure(figsize=(30,5))\n",
        "df['work_modality'].value_counts()[:15].plot(kind='barh')"
      ]
    },
    {
      "cell_type": "code",
      "source": [
        "df['work_modality'] = df['work_modality'].astype('category')\n"
      ],
      "metadata": {
        "id": "j8H94tSnIKTW"
      },
      "execution_count": null,
      "outputs": []
    },
    {
      "cell_type": "markdown",
      "source": [
        "## country\n",
        "type: object"
      ],
      "metadata": {
        "id": "c452ae03-f09d-41bc-8f8f-146fde0c9ade"
      }
    },
    {
      "cell_type": "code",
      "execution_count": null,
      "metadata": {
        "id": "cffca813-6a46-47e8-9e39-8fb2bcc29a71",
        "colab": {
          "base_uri": "https://localhost:8080/"
        },
        "outputId": "6b3e8c96-229f-44c4-e2af-51a0d1abe7a8"
      },
      "outputs": [
        {
          "output_type": "stream",
          "name": "stderr",
          "text": [
            "<ipython-input-125-84115444bcd9>:2: FutureWarning: The default value of regex will change from True to False in a future version.\n",
            "  df['country'] = df['country'].str.replace('.0','')\n"
          ]
        },
        {
          "output_type": "execute_result",
          "data": {
            "text/plain": [
              "array(['MEXICO', ' ', 'nan', 'COLOMBIA', 'UNITED STATES', 'CHILE', 'CUBA',\n",
              "       'EL SALVADOR', 'VENEZUELA', 'CANADA', 'BRAZIL', 'PERU',\n",
              "       'PUERTO RICO', 'COSTA RICA', 'PANAMA', 'ECUADOR', 'NICARAGUA',\n",
              "       'CAMEROON', 'DOMINICAN REPUBLIC', 'ARGENTINA', 'BELIZE', 'BERMUDA',\n",
              "       'HONDURAS', 'GUATEMALA', 'URUGUAY', 'GUYANA'], dtype=object)"
            ]
          },
          "metadata": {},
          "execution_count": 125
        }
      ],
      "source": [
        "df['country'] = df['country'].astype(str)\n",
        "df['country'] = df['country'].str.replace('.0','')\n",
        "df['country'].unique()"
      ]
    },
    {
      "cell_type": "code",
      "execution_count": null,
      "metadata": {
        "id": "7d486740-2874-49b9-be48-62e062182ff3",
        "colab": {
          "base_uri": "https://localhost:8080/"
        },
        "outputId": "a83d262b-1e90-45a0-a023-48c14680cb89"
      },
      "outputs": [
        {
          "output_type": "execute_result",
          "data": {
            "text/plain": [
              "COLOMBIA              3588\n",
              "nan                   3470\n",
              "MEXICO                2069\n",
              "UNITED STATES          359\n",
              "CHILE                   84\n",
              "VENEZUELA               69\n",
              "CANADA                  55\n",
              "BRAZIL                  51\n",
              "EL SALVADOR             50\n",
              "COSTA RICA              49\n",
              "CAMEROON                31\n",
              "PERU                    28\n",
              "NICARAGUA               14\n",
              "CUBA                    12\n",
              "ECUADOR                 12\n",
              "PANAMA                  10\n",
              "DOMINICAN REPUBLIC      10\n",
              "ARGENTINA               10\n",
              "PUERTO RICO              9\n",
              "HONDURAS                 6\n",
              "BERMUDA                  4\n",
              "URUGUAY                  4\n",
              "BELIZE                   3\n",
              "                         1\n",
              "GUATEMALA                1\n",
              "GUYANA                   1\n",
              "Name: country, dtype: int64"
            ]
          },
          "metadata": {},
          "execution_count": 126
        }
      ],
      "source": [
        "df['country'].value_counts()"
      ]
    },
    {
      "cell_type": "code",
      "execution_count": null,
      "metadata": {
        "id": "72f3424f-9780-4018-aa12-0a6cd8aabfd8",
        "colab": {
          "base_uri": "https://localhost:8080/"
        },
        "outputId": "12256dcb-c003-49aa-bb81-5790aa846161"
      },
      "outputs": [
        {
          "output_type": "execute_result",
          "data": {
            "text/plain": [
              "<Axes: ylabel='country'>"
            ]
          },
          "metadata": {},
          "execution_count": 127
        },
        {
          "output_type": "display_data",
          "data": {
            "text/plain": [
              "<Figure size 1000x500 with 1 Axes>"
            ],
            "image/png": "[encoded data removed]"
          },
          "metadata": {}
        }
      ],
      "source": [
        "plt.figure(figsize=(10,5))\n",
        "df['country'].value_counts()[:15].plot(kind='pie')"
      ]
    },
    {
      "cell_type": "code",
      "execution_count": null,
      "metadata": {
        "id": "2053fb6e-1e54-426f-b97c-cfab4ebd9ddf",
        "colab": {
          "base_uri": "https://localhost:8080/",
          "height": 415
        },
        "outputId": "1a58ed9c-b28e-42bb-825c-6edf144339e6"
      },
      "outputs": [
        {
          "output_type": "execute_result",
          "data": {
            "text/plain": [
              "<Axes: >"
            ]
          },
          "metadata": {},
          "execution_count": 128
        },
        {
          "output_type": "display_data",
          "data": {
            "text/plain": [
              "<Figure size 3000x500 with 1 Axes>"
            ],
            "image/png": "[encoded data removed]"
          },
          "metadata": {}
        }
      ],
      "source": [
        "plt.figure(figsize=(30,5))\n",
        "df['country'].value_counts()[:15].plot(kind='barh')"
      ]
    },
    {
      "cell_type": "markdown",
      "source": [
        "## city\n",
        "type: object"
      ],
      "metadata": {
        "id": "091b8703-7bf3-491d-9aab-84265241430c"
      }
    },
    {
      "cell_type": "code",
      "execution_count": null,
      "metadata": {
        "id": "eb705982-6f06-418d-91b7-d355961be3f4",
        "colab": {
          "base_uri": "https://localhost:8080/"
        },
        "outputId": "baf5e423-4888-48df-e460-62b6e79d2a9c"
      },
      "outputs": [
        {
          "output_type": "stream",
          "name": "stderr",
          "text": [
            "<ipython-input-129-fde3928cd42a>:2: FutureWarning: The default value of regex will change from True to False in a future version.\n",
            "  df['city'] = df['city'].str.replace('.0','')\n"
          ]
        },
        {
          "output_type": "execute_result",
          "data": {
            "text/plain": [
              "array(['Ciudad de Mexico', 'San Pedro Garza Garcia', 'nan', 'Medellin',\n",
              "       'Bogota', 'Cuautitlan', 'Wescosville', 'Monterrey', 'Funza',\n",
              "       'Pereira', 'Cartagena', 'Villavicencio', 'Norman', 'Cali',\n",
              "       'Florida', 'Tunja', 'Guadalajara', 'Rionegro', 'Ciudad Cuauhtemoc',\n",
              "       'Chihuahua', 'Cucuta', 'Bucaramanga', 'Manizales', 'Itagui',\n",
              "       'Neiva', 'Antofagasta', 'Pasto', 'Minatitlan', 'Victorville',\n",
              "       'San Juan del Cesar', 'Valencia West', 'Village of Islands',\n",
              "       'Floridablanca', 'Puebla', 'San Francisco', 'New York', 'Jamundi',\n",
              "       'Barranquilla', 'Tampico', 'Valledupar', 'Zapopan', 'Tenjo',\n",
              "       'Naucalpan de Juarez', 'Girardota', 'Ciudad Apodaca', 'Guaduas',\n",
              "       'Merida', 'Envigado', 'Victoria', 'Ibague', 'Guadalupe',\n",
              "       'Ecatepec', 'Tijuana', 'St. Robert', 'Monteria', 'Palmira',\n",
              "       'Grand Prairie', 'Hopatcong', 'Armenia', 'Lima', 'Candelaria',\n",
              "       'Santiago', 'Kennewick', 'Xico', 'Kitchener', 'Oak Grove', 'Tepic',\n",
              "       'Apartado', 'Cancun', 'Lancaster', 'Timberlane', 'Enfield',\n",
              "       'Puerto Rico', 'Puerto Colombia', 'San Nicolas de los Garza',\n",
              "       'Broken Arrow', 'Copacabana', 'Paradise', 'Cartago', 'Guarne',\n",
              "       'Madrid', 'St. Louis Park', 'Riohacha', 'Torreon', 'Milford',\n",
              "       'Los Angeles', 'Arauca', 'Tecamac', 'Phoenix', 'Mirabel',\n",
              "       'San Luis Potosi', 'Waipahu', 'Mosquera', 'Petaluma',\n",
              "       'Kansas City', 'Steilacoom', 'Santa Rosa de Cabal', 'Addison',\n",
              "       'Zapotlanejo', 'Cuautitlan Izcalli', 'Morelia', 'Yumbo', 'Yopal',\n",
              "       'Soacha', 'Greeley', 'Dallas', 'Aztec', 'Richmond', 'Oaxaca',\n",
              "       \"L'Epiphanie\", 'Tame', 'Bar Harbor', 'Rochester Hills',\n",
              "       'Merrillville', 'Popayan', 'Cienega de Flores', 'Las Condes',\n",
              "       'Anchorage', 'Breese', 'Saltillo', 'Panama City', 'Cajica',\n",
              "       'Cape Coral', 'Sabaneta', 'Salinas Victoria', 'Minneapolis',\n",
              "       'Puslinch', 'Hudsonville', 'Portoviejo', 'Marinilla', 'Chelmsford',\n",
              "       'Quebec City', 'Leon', 'Ciudad Hidalgo', 'Mbe', 'Seattle',\n",
              "       'Colima', 'Santa Marta', 'Brandon', 'Poughkeepsie', 'Tulua',\n",
              "       'Colombia', 'Ferry Pass', 'Tlajomulco de Zuniga', 'Fort Belvoir',\n",
              "       'Talca', 'Munster', 'San Diego', 'Indio', 'Garcia',\n",
              "       'Tultitlan de Mariano Escobedo', 'Amherstburg', 'Cabo San Lucas',\n",
              "       'Queens', 'San Jose', 'Durango', 'Annapolis Neck', 'Daytona Beach',\n",
              "       'Guanajuato', 'Ginebra', 'Aguascalientes', 'Oro Valley',\n",
              "       'California', 'Salem', 'Dosquebradas', 'Puerto Vallarta',\n",
              "       'Montemorelos', 'Culiacan', 'Villeta', 'Ciudad Acuna', 'Bello',\n",
              "       'Muskegon', 'Litchfield', 'New Bremen', 'Veracruz', 'Mansfield',\n",
              "       'Zipaquira', 'Memphis', 'Hermosillo', 'Vancouver', 'Chia',\n",
              "       'Toronto', 'Magog', 'Hagerstown', 'Segovia', 'Chiclayo', 'Caldas',\n",
              "       'Facatativa', 'Ixtapaluca', 'Villa de Leyva', 'Juarez',\n",
              "       'Tlalnepantla', 'Silao', 'Chetumal', 'Bosconia', 'Piura',\n",
              "       'Ciudad Lopez Mateos', 'Ocoyoacac', 'San Antero', 'El Salto',\n",
              "       'Freeport', 'San Miguel de Allende', 'Centralia', 'Ashburnham',\n",
              "       'Soledad', 'La Florida', 'Benito Juarez', 'Puerto Montt', 'Fresno',\n",
              "       'Boston', 'Home Gardens', 'Melfort', 'Yellowknife', 'San Alberto',\n",
              "       'Tocancipa', 'Chico', 'Girardot', 'Lake Wildwood',\n",
              "       'Sabana de Torres', 'Toluca', 'Santa Rosa',\n",
              "       'Tuxpam de Rodriguez Cano', 'Sulphur', 'Florencia', 'Coyaima',\n",
              "       'Paipa', 'Hastings', 'San Pablo', 'Mexicali', 'Lihue',\n",
              "       'Guadalajara de Buga', 'Ramos Arizpe', 'Little River',\n",
              "       'Middletown', 'Ottawa', 'Sincelejo', 'Alexandria',\n",
              "       'Playa del Carmen', 'Sabanalarga', 'Harlan', 'Madison', 'Nogales',\n",
              "       'Retiro', 'Puerto Tejada', 'Hillsborough', 'Belmont',\n",
              "       'San Juan del Rio', 'Melgar', 'Pachuca', 'Colorado',\n",
              "       'Puerto Wilches', 'Old Lyme', 'Providence', 'Montenegro',\n",
              "       'Fruitland', 'Palo Alto', 'Sogamoso', 'Tlaquepaque', 'San Gil',\n",
              "       'San Antonio', 'Valle de Santiago', 'Corozal', 'Celaya', 'Dibulla',\n",
              "       'Hamilton', 'Winterville', 'La Jagua de Ibirico', 'Buenaventura',\n",
              "       'Ciudad Madero', 'Detroit', 'Fonseca', 'Iquitos', 'Cathedral City',\n",
              "       'Curumani', 'Monaca', 'Lloydminster', 'Pitalito', 'Corpus Christi',\n",
              "       'Laurel', 'Xalapa', 'Temuco', 'Lackland AFB', 'Barrancabermeja',\n",
              "       'Strawberry', 'Cuenca', 'Urbana', 'Pradera', 'Fayetteville',\n",
              "       'Cerete', 'Upper Hanover', 'Cuernavaca', 'East Kelowna', 'La Paz',\n",
              "       'Duitama', 'San Jose del Cabo', 'Acushnet', 'Tulum', 'Bedford',\n",
              "       'Morales', 'Fredonia', 'Mandeville', 'Syosset', 'La Dorada',\n",
              "       'Putnam', 'Istmina', 'Arjona', 'South Pasadena', 'El Espinal',\n",
              "       'La Calera', 'Porlamar', 'Twin Falls', 'Aguachica', 'Rancagua',\n",
              "       'Wood Buffalo', 'Ipiales', 'Orizaba', 'Caracas', 'Cajamarca',\n",
              "       'Edmond', 'Lake Villa', 'East Milton', 'La Grange', 'Cresaptown',\n",
              "       'Idabel', 'Matamoros', 'Tocaima', 'Marysville', 'Barbosa',\n",
              "       'Mankato', 'Borger', 'Chiapa de Corzo', 'Uruapan', 'Offutt AFB',\n",
              "       'Reynosa', 'Reforma', 'Sparks', 'Bridgeport', 'Socha',\n",
              "       'Sacramento', 'Lorica', 'Alma', 'Tacna', 'Gomez Palacio',\n",
              "       'Jiutepec', 'Yorkville', 'Guacari', 'Greenville', 'Hopkinton',\n",
              "       'San Jose del Guaviare', 'Bowling Green', 'Velez', 'Fusagasuga',\n",
              "       'Surrey', 'Tumaco', 'Zamora', 'Tacoma', 'Onalaska', 'Lake Elmo',\n",
              "       'Mazatlan', 'Granada', 'Tucson', 'Rowlett', 'Lincoln', 'Santa Ana',\n",
              "       'Santa Clara', 'Turpin Hills', 'Lower Providence', 'Port St. John',\n",
              "       'Worthington', 'Mayfield Heights', 'Dagua', 'Villanueva',\n",
              "       'Bugalagrande', 'Leamington', 'Plato', 'Manchester', 'Piedecuesta',\n",
              "       'Emiliano Zapata', 'Manati', 'Wrightsville', 'Coatzacoalcos',\n",
              "       'Cortazar', 'Thousand Palms', 'Kelly', 'Torrance', 'Ciudad Valles',\n",
              "       'Lo Barnechea', 'Lambayeque', 'Manzanillo', 'Teays Valley',\n",
              "       'Floral Park', 'Trinidad', 'Calgary', 'Scottsdale', 'Montelibano',\n",
              "       'Irvington', 'Columbus', 'Tado', 'Incline Village', 'Kemp Mill',\n",
              "       'Bliss Corner', 'Picnic Point', 'Coquimatlan', 'Bainbridge Island',\n",
              "       'Maicao', 'Planeta Rica', 'New Square', 'Galapa', 'Exton',\n",
              "       'Ensenada', 'Carepa', 'Andes', 'Guayaquil', 'Gilberts', 'Tenerife',\n",
              "       'San Bernardo', 'Georgetown', 'Los Reyes', 'Puerto Lopez',\n",
              "       'Morelos', 'Nuevo Laredo', 'Monclova', 'Kutztown', 'Connell',\n",
              "       'Old Forge', 'Cimitarra', 'Burnaby', 'El Cocuy', 'Cary', 'Scott',\n",
              "       'Roldanillo', 'Sealy', 'Pamplona', 'Denville', 'Silverton',\n",
              "       'Giron', 'Calama', 'Trois-Rivieres', 'Live Oak', 'San Pedro',\n",
              "       'El Rosal', 'Irapuato', 'Bayshore Gardens', 'Altamira', 'Campeche',\n",
              "       'Manville', 'Ciudad Obregon', 'Ramona', 'Geneva', 'Villahermosa',\n",
              "       'El Carmen de Bolivar', 'Staunton', 'Dardenne Prairie',\n",
              "       'Ciudad Victoria', 'Puerto Morelos', 'Virginia Beach', 'Bel Aire',\n",
              "       'Quito', 'Weirton', 'Aracataca', 'Schuylkill Haven', 'Solano',\n",
              "       'Santa Maria Huatulco', 'Samaca', 'Riosucio', 'Vero Beach South',\n",
              "       'Medicine Hat', 'Santa Fe de Antioquia', 'Chita', 'Woodstock',\n",
              "       'Turbo', 'Brookhaven', 'Guaymas', 'Truro', 'San Jose de Pare',\n",
              "       'Puerto Libertador', 'Valdivia', 'Ennis', 'Forest Hills',\n",
              "       'Santo Tomas', 'San Juan Nepomuceno', 'Firebaugh', 'Santana',\n",
              "       'Loudon', 'Saguenay', 'Chiquinquira', 'Fort Mitchell', 'Pueblo',\n",
              "       'Panthersville', 'Herkimer', 'Riverdale Park'], dtype=object)"
            ]
          },
          "metadata": {},
          "execution_count": 129
        }
      ],
      "source": [
        "df['city'] = df['city'].astype(str)\n",
        "df['city'] = df['city'].str.replace('.0','')\n",
        "df['city'].unique()"
      ]
    },
    {
      "cell_type": "code",
      "execution_count": null,
      "metadata": {
        "id": "6a0b093a-b059-42a3-b4bd-615686c776f7",
        "colab": {
          "base_uri": "https://localhost:8080/"
        },
        "outputId": "fa1c7a84-1500-457f-d4e9-bca18c84934b"
      },
      "outputs": [
        {
          "output_type": "execute_result",
          "data": {
            "text/plain": [
              "nan                 3471\n",
              "Bogota              1322\n",
              "Ciudad de Mexico    1119\n",
              "Medellin             712\n",
              "Cali                 327\n",
              "Barranquilla         218\n",
              "Monterrey            184\n",
              "Guadalajara          142\n",
              "Bucaramanga          136\n",
              "Pereira               82\n",
              "Manizales             48\n",
              "Villavicencio         48\n",
              "Guaduas               44\n",
              "Santiago              43\n",
              "Puebla                43\n",
              "Name: city, dtype: int64"
            ]
          },
          "metadata": {},
          "execution_count": 130
        }
      ],
      "source": [
        "df['city'].value_counts().head(15)"
      ]
    },
    {
      "cell_type": "code",
      "execution_count": null,
      "metadata": {
        "id": "5c060b7c-946b-4fc8-aa83-f447beaf8b33",
        "colab": {
          "base_uri": "https://localhost:8080/"
        },
        "outputId": "43b3e7ff-aa24-4d90-bfa4-a62b3b920f93"
      },
      "outputs": [
        {
          "output_type": "execute_result",
          "data": {
            "text/plain": [
              "<Axes: ylabel='city'>"
            ]
          },
          "metadata": {},
          "execution_count": 131
        },
        {
          "output_type": "display_data",
          "data": {
            "text/plain": [
              "<Figure size 1000x500 with 1 Axes>"
            ],
            "image/png": "[encoded data removed]"
          },
          "metadata": {}
        }
      ],
      "source": [
        "plt.figure(figsize=(10,5))\n",
        "df['city'].value_counts()[:15].plot(kind='pie')"
      ]
    },
    {
      "cell_type": "code",
      "execution_count": null,
      "metadata": {
        "id": "c7ce49cb-b24d-4205-9f87-f050266818af",
        "colab": {
          "base_uri": "https://localhost:8080/"
        },
        "outputId": "f8e42c42-056f-40f7-ebf7-132da569ab36"
      },
      "outputs": [
        {
          "output_type": "execute_result",
          "data": {
            "text/plain": [
              "<Axes: >"
            ]
          },
          "metadata": {},
          "execution_count": 132
        },
        {
          "output_type": "display_data",
          "data": {
            "text/plain": [
              "<Figure size 3000x500 with 1 Axes>"
            ],
            "image/png": "[encoded data removed]"
          },
          "metadata": {}
        }
      ],
      "source": [
        "plt.figure(figsize=(30,5))\n",
        "df['city'].value_counts()[:15].plot(kind='barh')"
      ]
    },
    {
      "cell_type": "markdown",
      "source": [
        "## remote\n",
        "type: bool"
      ],
      "metadata": {
        "id": "57eeeb2b-ad11-47f9-a3f2-c3aa800be718"
      }
    },
    {
      "cell_type": "code",
      "execution_count": null,
      "metadata": {
        "id": "fa82e04f-f3d2-4b81-aeef-2786c6e50997",
        "colab": {
          "base_uri": "https://localhost:8080/"
        },
        "outputId": "266de485-3ca3-4456-fe80-715051d66dd0"
      },
      "outputs": [
        {
          "output_type": "execute_result",
          "data": {
            "text/plain": [
              "array([False,  True])"
            ]
          },
          "metadata": {},
          "execution_count": 133
        }
      ],
      "source": [
        "df['remote'].unique()"
      ]
    },
    {
      "cell_type": "code",
      "execution_count": null,
      "metadata": {
        "id": "bca078a7-5f22-42a3-b481-7b2ad2133b5e",
        "colab": {
          "base_uri": "https://localhost:8080/"
        },
        "outputId": "9e1cd7ba-b44c-4f7c-af26-cee4db624ffe"
      },
      "outputs": [
        {
          "output_type": "execute_result",
          "data": {
            "text/plain": [
              "False    6514\n",
              "True     3486\n",
              "Name: remote, dtype: int64"
            ]
          },
          "metadata": {},
          "execution_count": 134
        }
      ],
      "source": [
        "df['remote'].value_counts()"
      ]
    },
    {
      "cell_type": "code",
      "execution_count": null,
      "metadata": {
        "id": "54a80148-551c-4f63-994c-b0915e1cf7e7",
        "colab": {
          "base_uri": "https://localhost:8080/"
        },
        "outputId": "166181b3-278a-48e0-a088-d4cf9bc8b1c6"
      },
      "outputs": [
        {
          "output_type": "execute_result",
          "data": {
            "text/plain": [
              "<Axes: ylabel='remote'>"
            ]
          },
          "metadata": {},
          "execution_count": 135
        },
        {
          "output_type": "display_data",
          "data": {
            "text/plain": [
              "<Figure size 1000x500 with 1 Axes>"
            ],
            "image/png": "[encoded data removed]"
          },
          "metadata": {}
        }
      ],
      "source": [
        "plt.figure(figsize=(10,5))\n",
        "df['remote'].value_counts()[:15].plot(kind='pie')"
      ]
    },
    {
      "cell_type": "code",
      "execution_count": null,
      "metadata": {
        "id": "4a3201e4-0ae3-4528-bc3f-d65feb7d9ef3",
        "colab": {
          "base_uri": "https://localhost:8080/",
          "height": 1000
        },
        "outputId": "91af83ac-06ab-4efd-d5e8-5c2602cd1e17"
      },
      "outputs": [
        {
          "output_type": "execute_result",
          "data": {
            "text/plain": [
              "<Axes: >"
            ]
          },
          "metadata": {},
          "execution_count": 136
        },
        {
          "output_type": "display_data",
          "data": {
            "text/plain": [
              "<Figure size 3000x1500 with 1 Axes>"
            ],
            "image/png": "[encoded data removed]"
          },
          "metadata": {}
        }
      ],
      "source": [
        "plt.figure(figsize=(30,15))\n",
        "df['remote'].value_counts()[:15].plot(kind='barh')"
      ]
    },
    {
      "cell_type": "code",
      "source": [
        "df[df['remote']==True][['remote','country','city','account_executive']].groupby(['remote','country','city']).count().head(30).sort_values(by='account_executive',ascending=False)"
      ],
      "metadata": {
        "colab": {
          "base_uri": "https://localhost:8080/",
          "height": 1000
        },
        "id": "r7OLvA_8KJlB",
        "outputId": "c4d2066e-cd6b-4f7c-f280-c8dc661e2aca"
      },
      "execution_count": null,
      "outputs": [
        {
          "output_type": "execute_result",
          "data": {
            "text/plain": [
              "                                 account_executive\n",
              "remote country   city                             \n",
              "True   CAMEROON  Mbe                            31\n",
              "       BRAZIL    Colombia                       14\n",
              "       CANADA    Toronto                        12\n",
              "       BRAZIL    California                      6\n",
              "       CANADA    Kitchener                       5\n",
              "       BERMUDA   Hamilton                        4\n",
              "       CANADA    Ottawa                          4\n",
              "                 Puslinch                        3\n",
              "                 Quebec City                     2\n",
              "                 Calgary                         2\n",
              "       ARGENTINA Lincoln                         2\n",
              "       CANADA    Trois-Rivieres                  2\n",
              "       BRAZIL    Guadalupe                       2\n",
              "       CANADA    Melfort                         1\n",
              "       BRAZIL    Alexandria                      1\n",
              "       CANADA    Surrey                          1\n",
              "                 Saguenay                        1\n",
              "       BRAZIL    Caldas                          1\n",
              "                 Colorado                        1\n",
              "       CANADA    Mirabel                         1\n",
              "                 Amherstburg                     1\n",
              "                 Burnaby                         1\n",
              "                 Magog                           1\n",
              "                 Lloydminster                    1\n",
              "                 Leamington                      1\n",
              "                 L'Epiphanie                     1\n",
              "       BELIZE    San Pedro                       1\n",
              "       CANADA    East Kelowna                    1\n",
              "       BRAZIL    Montenegro                      1\n",
              "       CANADA    Medicine Hat                    1"
            ],
            "text/html": [
              "\n",
              "  <div id=\"df-43bd6817-60f0-4d1f-b2ac-8656e8572296\">\n",
              "    <div class=\"colab-df-container\">\n",
              "      <div>\n",
              "<style scoped>\n",
              "    .dataframe tbody tr th:only-of-type {\n",
              "        vertical-align: middle;\n",
              "    }\n",
              "\n",
              "    .dataframe tbody tr th {\n",
              "        vertical-align: top;\n",
              "    }\n",
              "\n",
              "    .dataframe thead th {\n",
              "        text-align: right;\n",
              "    }\n",
              "</style>\n",
              "<table border=\"1\" class=\"dataframe\">\n",
              "  <thead>\n",
              "    <tr style=\"text-align: right;\">\n",
              "      <th></th>\n",
              "      <th></th>\n",
              "      <th></th>\n",
              "      <th>account_executive</th>\n",
              "    </tr>\n",
              "    <tr>\n",
              "      <th>remote</th>\n",
              "      <th>country</th>\n",
              "      <th>city</th>\n",
              "      <th></th>\n",
              "    </tr>\n",
              "  </thead>\n",
              "  <tbody>\n",
              "    <tr>\n",
              "      <th rowspan=\"30\" valign=\"top\">True</th>\n",
              "      <th>CAMEROON</th>\n",
              "      <th>Mbe</th>\n",
              "      <td>31</td>\n",
              "    </tr>\n",
              "    <tr>\n",
              "      <th>BRAZIL</th>\n",
              "      <th>Colombia</th>\n",
              "      <td>14</td>\n",
              "    </tr>\n",
              "    <tr>\n",
              "      <th>CANADA</th>\n",
              "      <th>Toronto</th>\n",
              "      <td>12</td>\n",
              "    </tr>\n",
              "    <tr>\n",
              "      <th>BRAZIL</th>\n",
              "      <th>California</th>\n",
              "      <td>6</td>\n",
              "    </tr>\n",
              "    <tr>\n",
              "      <th>CANADA</th>\n",
              "      <th>Kitchener</th>\n",
              "      <td>5</td>\n",
              "    </tr>\n",
              "    <tr>\n",
              "      <th>BERMUDA</th>\n",
              "      <th>Hamilton</th>\n",
              "      <td>4</td>\n",
              "    </tr>\n",
              "    <tr>\n",
              "      <th rowspan=\"4\" valign=\"top\">CANADA</th>\n",
              "      <th>Ottawa</th>\n",
              "      <td>4</td>\n",
              "    </tr>\n",
              "    <tr>\n",
              "      <th>Puslinch</th>\n",
              "      <td>3</td>\n",
              "    </tr>\n",
              "    <tr>\n",
              "      <th>Quebec City</th>\n",
              "      <td>2</td>\n",
              "    </tr>\n",
              "    <tr>\n",
              "      <th>Calgary</th>\n",
              "      <td>2</td>\n",
              "    </tr>\n",
              "    <tr>\n",
              "      <th>ARGENTINA</th>\n",
              "      <th>Lincoln</th>\n",
              "      <td>2</td>\n",
              "    </tr>\n",
              "    <tr>\n",
              "      <th>CANADA</th>\n",
              "      <th>Trois-Rivieres</th>\n",
              "      <td>2</td>\n",
              "    </tr>\n",
              "    <tr>\n",
              "      <th>BRAZIL</th>\n",
              "      <th>Guadalupe</th>\n",
              "      <td>2</td>\n",
              "    </tr>\n",
              "    <tr>\n",
              "      <th>CANADA</th>\n",
              "      <th>Melfort</th>\n",
              "      <td>1</td>\n",
              "    </tr>\n",
              "    <tr>\n",
              "      <th>BRAZIL</th>\n",
              "      <th>Alexandria</th>\n",
              "      <td>1</td>\n",
              "    </tr>\n",
              "    <tr>\n",
              "      <th rowspan=\"2\" valign=\"top\">CANADA</th>\n",
              "      <th>Surrey</th>\n",
              "      <td>1</td>\n",
              "    </tr>\n",
              "    <tr>\n",
              "      <th>Saguenay</th>\n",
              "      <td>1</td>\n",
              "    </tr>\n",
              "    <tr>\n",
              "      <th rowspan=\"2\" valign=\"top\">BRAZIL</th>\n",
              "      <th>Caldas</th>\n",
              "      <td>1</td>\n",
              "    </tr>\n",
              "    <tr>\n",
              "      <th>Colorado</th>\n",
              "      <td>1</td>\n",
              "    </tr>\n",
              "    <tr>\n",
              "      <th rowspan=\"7\" valign=\"top\">CANADA</th>\n",
              "      <th>Mirabel</th>\n",
              "      <td>1</td>\n",
              "    </tr>\n",
              "    <tr>\n",
              "      <th>Amherstburg</th>\n",
              "      <td>1</td>\n",
              "    </tr>\n",
              "    <tr>\n",
              "      <th>Burnaby</th>\n",
              "      <td>1</td>\n",
              "    </tr>\n",
              "    <tr>\n",
              "      <th>Magog</th>\n",
              "      <td>1</td>\n",
              "    </tr>\n",
              "    <tr>\n",
              "      <th>Lloydminster</th>\n",
              "      <td>1</td>\n",
              "    </tr>\n",
              "    <tr>\n",
              "      <th>Leamington</th>\n",
              "      <td>1</td>\n",
              "    </tr>\n",
              "    <tr>\n",
              "      <th>L'Epiphanie</th>\n",
              "      <td>1</td>\n",
              "    </tr>\n",
              "    <tr>\n",
              "      <th>BELIZE</th>\n",
              "      <th>San Pedro</th>\n",
              "      <td>1</td>\n",
              "    </tr>\n",
              "    <tr>\n",
              "      <th>CANADA</th>\n",
              "      <th>East Kelowna</th>\n",
              "      <td>1</td>\n",
              "    </tr>\n",
              "    <tr>\n",
              "      <th>BRAZIL</th>\n",
              "      <th>Montenegro</th>\n",
              "      <td>1</td>\n",
              "    </tr>\n",
              "    <tr>\n",
              "      <th>CANADA</th>\n",
              "      <th>Medicine Hat</th>\n",
              "      <td>1</td>\n",
              "    </tr>\n",
              "  </tbody>\n",
              "</table>\n",
              "</div>\n",
              "      <button class=\"colab-df-convert\" onclick=\"convertToInteractive('df-43bd6817-60f0-4d1f-b2ac-8656e8572296')\"\n",
              "              title=\"Convert this dataframe to an interactive table.\"\n",
              "              style=\"display:none;\">\n",
              "        \n",
              "  <svg xmlns=\"http://www.w3.org/2000/svg\" height=\"24px\"viewBox=\"0 0 24 24\"\n",
              "       width=\"24px\">\n",
              "    <path d=\"M0 0h24v24H0V0z\" fill=\"none\"/>\n",
              "    <path d=\"M18.56 5.44l.94 2.06.94-2.06 2.06-.94-2.06-.94-.94-2.06-.94 2.06-2.06.94zm-11 1L8.5 8.5l.94-2.06 2.06-.94-2.06-.94L8.5 2.5l-.94 2.06-2.06.94zm10 10l.94 2.06.94-2.06 2.06-.94-2.06-.94-.94-2.06-.94 2.06-2.06.94z\"/><path d=\"M17.41 7.96l-1.37-1.37c-.4-.4-.92-.59-1.43-.59-.52 0-1.04.2-1.43.59L10.3 9.45l-7.72 7.72c-.78.78-.78 2.05 0 2.83L4 21.41c.39.39.9.59 1.41.59.51 0 1.02-.2 1.41-.59l7.78-7.78 2.81-2.81c.8-.78.8-2.07 0-2.86zM5.41 20L4 18.59l7.72-7.72 1.47 1.35L5.41 20z\"/>\n",
              "  </svg>\n",
              "      </button>\n",
              "      \n",
              "  <style>\n",
              "    .colab-df-container {\n",
              "      display:flex;\n",
              "      flex-wrap:wrap;\n",
              "      gap: 12px;\n",
              "    }\n",
              "\n",
              "    .colab-df-convert {\n",
              "      background-color: #E8F0FE;\n",
              "      border: none;\n",
              "      border-radius: 50%;\n",
              "      cursor: pointer;\n",
              "      display: none;\n",
              "      fill: #1967D2;\n",
              "      height: 32px;\n",
              "      padding: 0 0 0 0;\n",
              "      width: 32px;\n",
              "    }\n",
              "\n",
              "    .colab-df-convert:hover {\n",
              "      background-color: #E2EBFA;\n",
              "      box-shadow: 0px 1px 2px rgba(60, 64, 67, 0.3), 0px 1px 3px 1px rgba(60, 64, 67, 0.15);\n",
              "      fill: #174EA6;\n",
              "    }\n",
              "\n",
              "    [theme=dark] .colab-df-convert {\n",
              "      background-color: #3B4455;\n",
              "      fill: #D2E3FC;\n",
              "    }\n",
              "\n",
              "    [theme=dark] .colab-df-convert:hover {\n",
              "      background-color: #434B5C;\n",
              "      box-shadow: 0px 1px 3px 1px rgba(0, 0, 0, 0.15);\n",
              "      filter: drop-shadow(0px 1px 2px rgba(0, 0, 0, 0.3));\n",
              "      fill: #FFFFFF;\n",
              "    }\n",
              "  </style>\n",
              "\n",
              "      <script>\n",
              "        const buttonEl =\n",
              "          document.querySelector('#df-43bd6817-60f0-4d1f-b2ac-8656e8572296 button.colab-df-convert');\n",
              "        buttonEl.style.display =\n",
              "          google.colab.kernel.accessAllowed ? 'block' : 'none';\n",
              "\n",
              "        async function convertToInteractive(key) {\n",
              "          const element = document.querySelector('#df-43bd6817-60f0-4d1f-b2ac-8656e8572296');\n",
              "          const dataTable =\n",
              "            await google.colab.kernel.invokeFunction('convertToInteractive',\n",
              "                                                     [key], {});\n",
              "          if (!dataTable) return;\n",
              "\n",
              "          const docLinkHtml = 'Like what you see? Visit the ' +\n",
              "            '<a target=\"_blank\" href=https://colab.research.google.com/notebooks/data_table.ipynb>data table notebook</a>'\n",
              "            + ' to learn more about interactive tables.';\n",
              "          element.innerHTML = '';\n",
              "          dataTable['output_type'] = 'display_data';\n",
              "          await google.colab.output.renderOutput(dataTable, element);\n",
              "          const docLink = document.createElement('div');\n",
              "          docLink.innerHTML = docLinkHtml;\n",
              "          element.appendChild(docLink);\n",
              "        }\n",
              "      </script>\n",
              "    </div>\n",
              "  </div>\n",
              "  "
            ]
          },
          "metadata": {},
          "execution_count": 137
        }
      ]
    },
    {
      "cell_type": "markdown",
      "source": [
        "## vacancy_name\n",
        "type: object"
      ],
      "metadata": {
        "id": "24c34a6e-b516-4c8e-acc7-2c661a6fab77"
      }
    },
    {
      "cell_type": "code",
      "execution_count": null,
      "metadata": {
        "id": "15dfcfff-6f7e-483b-b5e8-26ebece04702",
        "colab": {
          "base_uri": "https://localhost:8080/"
        },
        "outputId": "77b83d33-ec7b-451a-9d0e-7e3c529512ec"
      },
      "outputs": [
        {
          "output_type": "stream",
          "name": "stderr",
          "text": [
            "<ipython-input-138-451b1af81087>:2: FutureWarning: The default value of regex will change from True to False in a future version.\n",
            "  df['vacancy_name'] = df['vacancy_name'].str.replace('.0','')\n"
          ]
        },
        {
          "output_type": "execute_result",
          "data": {
            "text/plain": [
              "array(['account executive', 'coordinador de marketing y publicidad',\n",
              "       'Ejecutivo de Ventas y Servicio Medellín -2 de Diciembre', ...,\n",
              "       'director de nuevos negocios', 'sr recruiter - mexico',\n",
              "       'especialista de gestión efectiva'], dtype=object)"
            ]
          },
          "metadata": {},
          "execution_count": 138
        }
      ],
      "source": [
        "df['vacancy_name'] = df['vacancy_name'].astype(str)\n",
        "df['vacancy_name'] = df['vacancy_name'].str.replace('.0','')\n",
        "df['vacancy_name'].unique()"
      ]
    },
    {
      "cell_type": "code",
      "execution_count": null,
      "metadata": {
        "id": "a62ad7c9-b4f9-4970-8629-ae9ca1649ac8",
        "colab": {
          "base_uri": "https://localhost:8080/"
        },
        "outputId": "8b3fd325-3d9f-4a69-d8b6-296063f3f597"
      },
      "outputs": [
        {
          "output_type": "execute_result",
          "data": {
            "text/plain": [
              "community manager                      95\n",
              "asesor comercial                       59\n",
              "business development manager           57\n",
              "product manager                        42\n",
              "business development representative    40\n",
              "marketing manager                      34\n",
              "consultor comercial                    30\n",
              "ejecutivo comercial                    30\n",
              "marketing coordinator                  27\n",
              "account manager                        26\n",
              "auxiliar administrativo                25\n",
              "talent acquisition specialist          25\n",
              "customer success manager               21\n",
              "desarrollador web                      20\n",
              "frontend developer                     20\n",
              "business development specialist        19\n",
              "sales manager                          19\n",
              "marketing specialist                   18\n",
              "executive assistant                    18\n",
              "hr generalist                          18\n",
              "analista de marketing                  18\n",
              "human resources generalist             17\n",
              "consultor de ventas                    17\n",
              "coordinador de marketing               16\n",
              "coordinador comercial                  16\n",
              "digital marketing manager              15\n",
              "planner                                15\n",
              "desarrollador java                     15\n",
              "especialista en marketing digital      14\n",
              "agile coach                            14\n",
              "Name: vacancy_name, dtype: int64"
            ]
          },
          "metadata": {},
          "execution_count": 139
        }
      ],
      "source": [
        "df['vacancy_name'].value_counts().head(30)"
      ]
    },
    {
      "cell_type": "code",
      "execution_count": null,
      "metadata": {
        "id": "c79e7b2a-fcfc-4414-ad65-e7945c19c89f",
        "colab": {
          "base_uri": "https://localhost:8080/"
        },
        "outputId": "365c6547-245e-4844-82b8-29a09f7418f2"
      },
      "outputs": [
        {
          "output_type": "execute_result",
          "data": {
            "text/plain": [
              "<Axes: ylabel='vacancy_name'>"
            ]
          },
          "metadata": {},
          "execution_count": 140
        },
        {
          "output_type": "display_data",
          "data": {
            "text/plain": [
              "<Figure size 1000x500 with 1 Axes>"
            ],
            "image/png": "[encoded data removed]"
          },
          "metadata": {}
        }
      ],
      "source": [
        "plt.figure(figsize=(10,5))\n",
        "df['vacancy_name'].value_counts()[:15].plot(kind='pie')"
      ]
    },
    {
      "cell_type": "code",
      "execution_count": null,
      "metadata": {
        "id": "84a75e55-9e76-45ea-9fef-c7080293ffc7",
        "colab": {
          "base_uri": "https://localhost:8080/",
          "height": 399
        },
        "outputId": "cb005aba-3e8c-40e2-b893-2fea7266e318"
      },
      "outputs": [
        {
          "output_type": "execute_result",
          "data": {
            "text/plain": [
              "<Axes: >"
            ]
          },
          "metadata": {},
          "execution_count": 141
        },
        {
          "output_type": "display_data",
          "data": {
            "text/plain": [
              "<Figure size 3000x500 with 1 Axes>"
            ],
            "image/png": "[encoded data removed]"
          },
          "metadata": {}
        }
      ],
      "source": [
        "plt.figure(figsize=(30,5))\n",
        "df['vacancy_name'].value_counts()[:15].plot(kind='barh')"
      ]
    },
    {
      "cell_type": "markdown",
      "source": [
        "## description\n",
        "type: object"
      ],
      "metadata": {
        "id": "07d7bdfd-4c78-492b-8fab-b31e7dddaf5e"
      }
    },
    {
      "cell_type": "code",
      "execution_count": null,
      "metadata": {
        "id": "2c9b1f32-0d68-4814-a9a3-24d25bc61465",
        "colab": {
          "base_uri": "https://localhost:8080/"
        },
        "outputId": "9e6fe2dc-2ed9-41e4-a8f7-510a36f3b877"
      },
      "outputs": [
        {
          "output_type": "stream",
          "name": "stderr",
          "text": [
            "<ipython-input-142-40cbf9d25686>:2: FutureWarning: The default value of regex will change from True to False in a future version.\n",
            "  df['description'] = df['description'].str.replace('.0','')\n"
          ]
        },
        {
          "output_type": "execute_result",
          "data": {
            "text/plain": [
              "array(['Are you looking for a challenging opportunity in an organization with a dynamic, innovative and diverse environment?\\n\\n\\n\\n\\nIf so, your future is at PepsiCo. As a world class company, we seek excellence in everything we do from the launch of a new product to its execution at the point of sale. Therefore, we need talented and innovative people who are passionate about what they do.\\n\\n\\n\\n\\nPepsiCo Mexico currently has a broad portfolio of food and beverage products, such as Sabritas, Gamesa, Quaker, Pepsi, Obela and Sonrics, leading brands in the snacks, cereals, soft drinks, isotonic and cookies markets respectively.\\n\\nOur vision is to be the world leader in food and beverages by earning with purpose. `Winning with purpose` reflects our ambition to win sustainably in the market and integrate the purpose in all aspects of the business.\\n\\n\\n\\n\\nFor more information you can enter www.pepsico.com\\n\\n\\n\\n\\nNow we are looking for this position:\\n\\nBRAND CONTENT - ACCOUNT EXECUTIVE\\n\\n\\n\\n\\nMain Purpose\\n\\n\\n\\n\\nThe Account Executive role requires a person with a do-what-it takes attitude who can wear various hats from concepting, brainstorming, evaluating design and creatives ideas, providing strategic planning, and being the liaison between the content design team and the brand team. In this role, you will be the face of the in-house content development team for QUAKER FOODS NORTH AMERICA that is driving creative versioning of multiple communication assets in this super-fast-paced environment. It is imperative that you are detailed-oriented, can anticipate and solve problems, build client trust, and meet stringent deadlines.\\n\\nAccountabilities\\n\\n• Kickstart timeline development by providing a due date and client mandatory to project management, ans ensure that timeline meets\\n\\nboth team and clients needs.\\n\\n• Translate the brand teams or shopper marketing teams brief to the creative / design team.\\n\\n• Apply your experience and understanding of agency processes to daily project management duties.\\n\\n• Ensure a good service and client/in-house agency relationship.\\n\\n• Keeping management informed of the status of his accounts, problems, plans and meetings, as well as involving Management personnel\\n\\nat key times.\\n\\n• Uses knowledge of advertising production processes in motion/video media (TV, digital, branded content, social media).\\n\\n• Ensures the timely development and execution of plans, campaigns, and projects to assure a good relationship with stakeholders.\\n\\n• Executed duties ans assignments as directed in compliance with corporate guidelines and objectives.\\n\\n• Maintains open and complete communications of clients issues with functional leaders.\\n\\n\\n\\n\\nEducation/requirements\\n\\n• Bachelor’s degree in a directly related field (advertising, marketing, communication, etc).\\n\\n• +1 year of agency creative experience in account management.\\n\\n• Experience managing creative teams in agency or in-house agency environments\\n\\n• Language proficiency both in English and Spanish is a must for this role (FLUENT ENGLISH COMMUNICATION SKILLS ARE COMPULSORY).\\n\\n• Ability to oversee a range of accounts and projects with detail-oriented lens.\\n\\n• Strong consumer empathy & consumer-centricity. Demonstrated ability to place the consumer at the heart of everything.\\n\\n• Highly professional, with the ability to deliver solid work on tight schedules and work independently with little direction but supervision of\\n\\nthe manager.\\n\\n• Presentation skills and proven ability to influence creative decision making.\\n\\n• Knowledge of Power Point, Teams, SharePoint and Project Management Tools.\\n\\n• Proven collaboration, problem-solving, communication and relationship-building skills.\\n\\n• Ability to build and maintain strong relationships with clients and the creative team.\\n\\n\\n\\n\\n\\n\\n\\nLearn more about our culture and life at PepsiCo https://stories.pepsicojobs.com/\\n\\n\\n\\n\\nAt PepsiCo, we are committed to providing equal development opportunities for all candidates for employment without exception of race, religion, sex, sexual orientation, marital status, age, nationality, origin, or type of disability. We respect and value diversity as a workforce and innovation for the organization.\\n\\n\\n\\n\\nThank you so much for thinking about PepsiCo to start or continue your career!',\n",
              "       'Empresa enfocada en estética médica y dermatología solicita:\\n\\n\\n\\n\\nLIDER DE MARKETING / $25- Nominales\\n\\n\\n\\n\\n*Zona de trabajo Centrito Valle, San Pedro Garza García\\n\\n\\n\\n\\nRequisitos:\\n\\nLicenciatura terminada en Mercadotecnia o Afin.\\nExperiencia mínima de 3 años\\nOrientación bajo resultados\\n\\n\\n\\n\\nActividades:\\n\\nAdministración de Campañas digitales.\\nExperiencia en Diseño Gráfico.\\nComunicación interna\\nEjecución e implementación de estrategias de mercadotecnia\\nOrganizar el estudio de mercado para evaluar las tendencias de compra.\\nPreparar estimaciones de venta.\\nSupervisar el rendimiento de las ventas.\\n\\n\\n\\n\\nHabilidades\\n\\nLiderazgo\\nComunicación efectiva\\nOrganizado\\nTrabajo en equipo\\n\\n\\n\\n\\nOfrecemos:\\n\\n$25- nominales\\nVales de Gasolina\\nVales de Despensa\\nPrestaciones de Ley\\n1 día de home office',\n",
              "       'Sobre el cargo\\nEstamos en la búsqueda de WOMers apasionad@s por la venta de productos y servicios. Como Ejecutivo Multiskill vas a estar a cargo de la asesoría comercial, la pre-venta, la venta y la post-venta en nuestras tiendas y kioskos.\\nPara postularte a esta vacante es indispensable que cuentes con:\\n1-2 años en experiencia en ventas.',\n",
              "       ...,\n",
              "       'importante empresa del sectorrequieredirector de nuevos negociospara laboraren la ciudad de manizales, con un contrato atérmino fijoy un horario laboral delunes a viernes.\\n\\nel objetivo del cargo es investigar y aperturar nuevos mercados de acuerdo con los lineamientos del área comercial.\\n\\notros aspectos a tener en cuenta antes de aplicar a esta vacante:\\n\\nexperiencia necesaria:mínimo de 3 a 5 años experiencia comercial en mercados del exterior afines al sector de la construcción y agro.\\n\\nnivel de estudios:profesional en ingeniería, administración, mercadeo o afines. deseable con especialización en áreas relacionadas.\\n\\nrequisitos adicionales:conocimiento en mercados internacionales.\\n\\nmanejo de idiomas:inglés c1.\\n\\nrevise con cuidado losrequerimientos del cargo, pues las hojas de vida que no cumplan con dichos requerimientosserán descartadas del proceso de selección.\\n\\nverifique que todos sus datos estén correctamente escritos,especialmente su correo electrónico, pues será con esta información con la que nos pondremos en contacto con usted en caso dequedar preseleccionado.\\n\\nrecuerde utilizar el campo del formulario`cargue su hoja de vida`para cargar de forma correcta su hoja de vida en nuestro sistema.\\n\\nsi tiene inquietudes o preguntas sobre la vacante, puede utilizar el espacio de observaciones o aclaraciones para escribirlas y recibir respuesta por parte de adylog s.a.s.\\n\\nvacante abierta el33/23\\n\\ningrese sus datos de contacto y cargue su hoja de vida antes de hacer clic en el botón `aplicar a la vacante`.\\n\\nla hoja de vida debe estar en formato.doc, .docx, .pdf o .txty no debe pesar más demb.\\n\\nsi tiene dudas o preguntas sobre nuestros procesos de selección, puede contactarnos en ******\\n\\nadylog s.a.s. / parque industrial david uribe / km. 9 vía al magdalenapbx: (57) 6 898 2777',\n",
              "       'location: 0% remotee in mexico – proficient in english (written and verbal) required\\n\\n\\n\\n\\nthe sr. corporate recruiter is responsible for effectively managing candidates through the recruiting and selection process, providing consulting and guidance to others on the talent acquisition team, and participating or leading projects that improve the recruiting experience. the sr. recruiter is an experienced recruiter, able to handle a large quantity of uniquely diverse or specialized requisitions.\\n\\nprimary responsibilities:\\n\\nbuild a sourcing strategy to find qualified candidates. partner with hiring managers, business leaders, key stakeholders and hrbps to understand and source unique talent needs. look past direct applications and leverage search engines, career sites, recruiting events, and other innovative sourcing techniques to find the best talent available.\\n\\n\\n\\n\\nmanage the full lifecycle recruiting process and hiring deliverables. this includes creating compelling job posting descriptions, identifying diverse candidate pipelines, marketing the odp corp’s talent brand to attract top talent, screening candidates and presenting top candidates to hiring managers, advising business partners on the recruiting and evaluation process, and negotiating job offers.\\n\\n\\n\\n\\n· manage the candidate experience. develop and execute sourcing plans to identify and recruit\\n\\ntop talent, owning the candidate development process from identification and engagement to\\n\\noffer extension and closing.\\n\\n\\n\\n\\n· partner and support peer recruiters. partner and advise other recruiters by role modeling our\\n\\nculture 5cs and sharing high-level expertise. support cross-functional requisitions, if needed\\n\\nas an agile, utility recruiter. stay abreast of trends and innovative recruiting techniques to\\n\\nsupport recruiting enhancements and share best practices with peers. point person to\\n\\nparticipate and lead projects that support recruiting enhancements.\\n\\n\\n\\n\\nproactively provide requisition and hiring status updates to hiring managers, leadership, and hr partners\\n\\n\\n\\n\\nrequirements:\\n\\nbachelor`s degree or equivalent experience.\\nexcellent written and spoken english communication skills.\\nmust have good tenure.\\n4- years of corporate recruiting experience in mexico\\n4+ years of experience. driving an end-to-end recruiting process with deep engagement with hiring managers.\\n2+ years of experience working in a matrixed environment while partnering with hr business partner, compensation teams and other operational stakeholders.\\n2+ years of experience working with enterprise-grade applicant tracking systems.\\nstrong experience sourcing using linkedin recruiter and indeed.\\nability to drive results and use innovative techniques to attract and recruit diverse talent.\\nresources business partner, compensation teams and other operational stake holders\\ntech savvy as a user with various business systems including applicant tracking, spreadsheets, project management tools, performance management and presentation tools.\\nexperience in driving compensation and offer discussions while recognizing mexico legal/hr compliance requirements related to hiring.\\n\\n\\n\\n\\nthe above statements are intended to describe the general nature and level of work being performed by associates assigned to this classification and are not intended to be a complete list of all required responsibilities and skills. other duties and special projects may be assigned per business needs. job descriptions are subject to change at any time with or without notice.\\n\\n\\n\\n\\nbenefits and perks\\n\\n0% remotee work in mexico\\nvacation and personal days\\nchristmas bonus\\nfood vouchers\\ntelework allowance\\nsavings fund\\nvacation bonus\\nprofit sharing\\nlife insurance\\nprivate medical insurance',\n",
              "       '¡únete a la institución n°1 en microfinanzas de latinoamérica y el caribe y la n°2 a nivel mundial!\\n\\nen mibanco, el banco especializado en microfinanzas del grupo credicorp, tenemos el propósito de transformar las vidas de los colombianos a través de la inclusión financiera. por ello, nos encontramos en búsqueda de una persona apasionada por el logro de metas, que le guste trabajar con los pequeños empresarios del país.\\n\\n¿por qué trabajar con nosotros?\\n\\ntrabajarás con los mejores equipos en un entorno diverso y dinámico. ofrecemos sueldo competitivo y un excelente ambiente laboral: entretenido, dinámico y desafiante. esperamos que puedas aprender y que nosotros también podamos aprender de ti.\\n\\nrequisitos: profesional en carreras administrativas, financieras y/o comerciales; con mínimo de 5 años de experiencia en el proceso comercial del sector financiero\\n\\nconocimientos específicos\\n\\nprocesos comerciales y crediticios\\n\\nexcel intermedio\\n\\ndiseño y administración de bases de datos\\n\\nanálisis de datos, consolidación de información y reportes\\n\\nandragogía y pedagogía'],\n",
              "      dtype=object)"
            ]
          },
          "metadata": {},
          "execution_count": 142
        }
      ],
      "source": [
        "df['description'] = df['description'].astype(str)\n",
        "df['description'] = df['description'].str.replace('.0','')\n",
        "df['description'].unique()"
      ]
    },
    {
      "cell_type": "code",
      "execution_count": null,
      "metadata": {
        "id": "a02dc700-8c12-48eb-9785-84fefce8ac09",
        "colab": {
          "base_uri": "https://localhost:8080/"
        },
        "outputId": "d3ec5164-da65-4783-b805-6dbb91592527"
      },
      "outputs": [
        {
          "output_type": "execute_result",
          "data": {
            "text/plain": [
              "Sobre el cargo\\nEstamos en la búsqueda de WOMers apasionad@s por la venta de productos y servicios. Como Ejecutivo Multiskill vas a estar a cargo de la asesoría comercial, la pre-venta, la venta y la post-venta en nuestras tiendas y kioskos.\\nPara postularte a esta vacante es indispensable que cuentes con:\\n1-2 años en experiencia en ventas.\\nGrado culminado de Técnico o Tecnólogo en carreras administrativas, comunicación o afines.                                                                                                                                                                                                                                                                                                                                                                                                                                                                                                                                                                                                                                                                                                                                                                                                                                                                                                                                                                                                                                                                                                                                                                                                                                                                                                                                                                                                                                                                                                                                                                                                                                                                                                                                                                                                                                                                                                                                                                                                                                                                                                                                                                                                                                                                                                                                                                                                                                                                                                                                                                                                                                                                                                                                                                                                                                                                                                                                                                                                                                                                                                                                                                                                                                                                                                                                                                                                                                                                                                                                                                                                                                                                                                                                                                                                                                                                                            7\n",
              "Sobre el cargo\\nEstamos en la búsqueda de WOMers apasionad@s por la venta de productos y servicios. Como Ejecutivo Multiskill vas a estar a cargo de la asesoría comercial, la pre-venta, la venta y la post-venta en nuestras tiendas y kioskos.\\nPara postularte a esta vacante es indispensable que cuentes con:\\n1-2 años en experiencia en ventas.                                                                                                                                                                                                                                                                                                                                                                                                                                                                                                                                                                                                                                                                                                                                                                                                                                                                                                                                                                                                                                                                                                                                                                                                                                                                                                                                                                                                                                                                                                                                                                                                                                                                                                                                                                                                                                                                                                                                                                                                                                                                                                                                                                                                                                                                                                                                                                                                                                                                                                                                                                                                                                                                                                                                                                                                                                                                                                                                                                                                                                                                                                                                                                                                                                                                                                                                                                                                                                                                                                                                                                                                                                                                                                                                                                                                                                                                                                                                                                                        6\n",
              "¡salesland crece!\\n\\nnos encontramos en la búsqueda de asesores comerciales apasionados por la tecnología, con excelente actitud de servicio, extrovertidos y dinámicos, para hacer parte de nuestra familia multinacional y de nuestra marca líder en ventas de equipos celulares de alto valor.\\n\\nbachilleres con experiencia mínima de 6 meses comercializando productos tecnológicos.\\n\\nte ofrecemos un salario fijo: 1.1\\n\\nbonificación: 3 (desde el 85% de cumplimiento de objetivos)\\n\\ntransporte: 1\\n\\ntotal: 1´6\\n\\nincentivos variable\\n\\npagos quincenales\\n\\n¿qué esperas para hacer parte de nuestra familia salesland?                                                                                                                                                                                                                                                                                                                                                                                                                                                                                                                                                                                                                                                                                                                                                                                                                                                                                                                                                                                                                                                                                                                                                                                                                                                                                                                                                                                                                                                                                                                                                                                                                                                                                                                                                                                                                                                                                                                                                                                                                                                                                                                                                                                                                                                                                                                                                                                                                                                                                                                                                                                                                                                                                                                                                                                                                                                                                                                                                                                                                                                                                                                                                                                                                                                                                                                                                                                                                                                                                                                                                                                                                                                                                               6\n",
              "prestigiosa y reconocida empresa de tecnología requiere para su equipo de trabajo, personal bachiller con excelente actitud comercial y buena presentación personal, para trabajar en punto realizando venta de productos tecnológicos.\\n\\nrequisitos\\n\\nbachiller culminado.\\n6 meses de experiencia en ventas, certificada.\\n\\nhorario: lunes a domingo, 1 día compensatorio a la semana, turnos de 8 horas diarias.\\n\\nsalario: básico $1.2 + auxilio de transporte $1 + prestaciones de ley + pago de recargo dominical + comisiones.\\n\\ncontrato: obra o labor.\\n\\ndisponibilidad para trabajar en diferentes puntos.\\n\\nsi te interesa, no dudes en postularte.                                                                                                                                                                                                                                                                                                                                                                                                                                                                                                                                                                                                                                                                                                                                                                                                                                                                                                                                                                                                                                                                                                                                                                                                                                                                                                                                                                                                                                                                                                                                                                                                                                                                                                                                                                                                                                                                                                                                                                                                                                                                                                                                                                                                                                                                                                                                                                                                                                                                                                                                                                                                                                                                                                                                                                                                                                                                                                                                                                                                                                                                                                                                                                                                                                                                                                                                                                                                                                                                                                                                                                                                                                                                     5\n",
              "Sobre el cargo\\nEstamos en la búsqueda de WOMers apasionad@s por la venta de productos y servicios. Como Ejecutivo Multiskill vas a estar a cargo de la asesoría comercial la pre-venta la venta y la post-venta en nuestras tiendas y kioskos.\\nPara postularte a esta vacante es indispensable que cuentes con:\\n1-2 años en experiencia en ventas.                                                                                                                                                                                                                                                                                                                                                                                                                                                                                                                                                                                                                                                                                                                                                                                                                                                                                                                                                                                                                                                                                                                                                                                                                                                                                                                                                                                                                                                                                                                                                                                                                                                                                                                                                                                                                                                                                                                                                                                                                                                                                                                                                                                                                                                                                                                                                                                                                                                                                                                                                                                                                                                                                                                                                                                                                                                                                                                                                                                                                                                                                                                                                                                                                                                                                                                                                                                                                                                                                                                                                                                                                                                                                                                                                                                                                                                                                                                                                                                          4\n",
              "                                                                                                                                                                                                                                                                                                                                                                                                                                                                                                                                                                                                                                                                                                                                                                                                                                                                                                                                                                                                                                                                                                                                                                                                                                                                                                                                                                                                                                                                                                                                                                                                                                                                                                                                                                                                                                                                                                                                                                                                                                                                                                                                                                                                                                                                                                                                                                                                                                                                                                                                                                                                                                                                                                                                                                                                                                                                                                                                                                                                                                                                                                                                                                                                                                                                                                                                                                                                                                                                                                                                                                                                                                                                                                                                                                                                                                                                                                                                                                                                                                                                                                                                                                                                                                                                                                                                              ..\n",
              "somos una empresa de fabricación de moldes e inyección de plástico, nos enfocamos en altas soluciones técnicas y proyectos llave en mano para el sector automotriz, médico, eléctrico/electrónico, electrodomésticos. a través de nuestros clientes t1, nuestros productos pueden ser vistos en marcas premium como maserati, rolls royce, bmw, mercedez, fiat jeep, vw, chrysler, ford, gm, harley davidson.\\n\\n\\n\\n\\nrequisitos: _095_ educación: ing electrónica / ing industrial / ing mecánica o afín\\n\\n\\n\\n\\n_095_ experiencia en el puesto mínimo 1 año _095_ disponibilidad para rolar turnos _095_ vivir cerca de la zona (preferentemente) actividades\\n\\n\\n\\n\\n_095_ mantenimiento preventivo y correctivo a máquinas de inyección\\n\\n\\n\\n\\n_095_ mantenimiento general\\n\\n\\n\\n\\n_095_ interpretación de diagramas eléctricos, neumáticos, hidráulicos, mecánicos _095_ mantenimiento a equipos de ensamble _095_ mantenimiento a equipos periféricos y moldes de sistema de colada caliente y fría\\n\\n\\n\\n\\nconocimientos: _095_ conocimiento en electricidad _095_ conocimiento en mecánica industrial _095_ conocimiento en neumática _095_ conocimiento en hidráulica _095_ conocimiento en electrónica _095_ mantenimiento de moldes _095_ programación de plc _095_ conocimiento en maquinas de inyección y periféricos                                                                                                                                                                                                                                                                                                                                                                                                                                                                                                                                                                                                                                                                                                                                                                                                                                                                                                                                                                                                                                                                                                                                                                                                                                                                                                                                                                                                                                                                                                                                                                                                                                                                                                                                                                                                                                                                                                                                                                                                                                                                                                                                                                                                                                                                                                                                                                                                                                                                                                                                                                                                                                                                                                                                                                                                                                                                                                                                                                                                      1\n",
              "description\\n\\n\\n\\n\\nwho we are\\n\\n\\n\\n\\nselina’s mission is to build a remote movement where people live, travel, work and explore unique local experiences while forging meaningful connections. built with the digital nomad in mind, selina is disrupting the hospitality industry with a design, tech and socially-centric approach to boutique hotel and co-working developments that enable travelers to seamlessly live and work abroad.\\n\\n\\n\\n\\nwhat the role is\\n\\n\\n\\n\\nthe f&b venue manager is in charge of the day to day management and results of the f&b venue, including, delivering the f&b strategy, revenue generation, cost control, people development & quality control, daily cash reconciliation ,the operational execution of events. and ultimately leading the f&b operation to profit.\\n\\n\\n\\n\\nvenue profitability\\n\\n\\n\\n\\nmanage social media and marketing tools to promote the venue and events according to brand guidelines\\nensure the social media team have knowledge of all f&b activations through the calender year, supporting the creation of content and delivery of social media engagement initiatives.\\nensure the f&b venue has a minimum of 6 weeks social media content programmed at all times.\\nseek and manage partnerships with brands that enhance the venue and selina brand\\nwork with the destination team to curate and execute events & experiences that drive revenue and ulcm profit.\\nmanage the venue’s p&l\\n\\n\\n\\n\\nvenue operation\\n\\n\\n\\n\\nrecruit the staff needed on time.\\nensure onboarding & training schedule for all venue staff.\\nensure high level customer service is given by all venue staff.\\nplanning work schedules for teams at a wage cost of no more than the target % of forecast sales\\nensure all required industry and company protocols are being followed.\\nconduct daily standup with staff\\nmanage procurement for the venue ensuring cost of food and beverage consumption does not exceed the established target\\nmanage all maintenance protocols (preventive and repairs)\\nkeep prices updated in all venue platforms to ensure an optimal cost of sale across the menu sales mix\\nensure cleanliness of the venue at all times and compliance with required industry and company protocols\\nmanage the venue’s softwares.\\nensure compliance with health and safety legislation and licensing laws\\ngreet customers and support on handling customer complaints and queries\\nmanage sending the invoices to accounting department\\nmanagement of contractors and supplier relationships and contract deliverables\\nensuring security is effective;\\ncomplete all reports and analysis requested\\nensure the venue follows all brand guidelines\\n\\n\\n\\n\\nvenue events\\n\\n\\n\\n\\ncurate & execute a schedule of events for the venue with the destination team\\naccountable for the successful operational execution of events.\\nsupport dj’s & artists scheduled for the location.\\nproduce special events according to events strategy\\nin charge of selina sound visual equipment maintenance & operation.\\ndecorate venue with concepts approved\\ndeliver events on time, within budget\\nfully bilingual (english and local language)\\nstrong organization and time management skills (to manage schedules, budgets, etc)\\nprevious management or department head experience <3 years\\nprevious stock management experience\\nprevious scheduling experience\\nexperience building & costing menus\\nprevious cash reconciliation experience\\ndemonstrates a good basic understanding of f&b p&l basics\\nexperience\\ncultural fit and community engagement\\ncompetitive salary\\na share of the profit you generate\\nno dress code\\npet-friendly (as long as your pet is friendly)\\nmultiple online training opportunities\\ncultural events and wellness activities at locations. volunteering with selina gives back; because sharing is caring\\nhuge selina experience discounts on your stay, food & fun for you and your friends & family (you can expect to become even more popular among your friends)\\nhave your birthday off\\namazing referral program with cash and remote holiday packages; we know you hang out with other great people\\nextra country-specific benefits; we can tell you more during the application process    1\n",
              "Who we are\\n\\nBairesDev is proud to be the fastest-growing company in America. With people on five continents and world-class clients, we are only as strong as the multicultural teams at the heart of our business. To consistently deliver the highest quality solutions to our clients, we only hire the Top 1% of the best talents and nurture their professional growth on exciting projects.\\n\\nSenior Demand Generation Manager at BairesDev\\n\\nWe are looking for a Senior Demand Generation Manager to join our growing Marketing team. You will play a critical role in the growth of Workling, owning our demand generation strategy and partnering with the broader Go-To-Market (GTM) team to execute on it. This is a high-impact role with a focus on company growth via integrated campaigns, inbound marketing, lead nurturing, and Account-Based Marketing (ABM). This role reports to the Head of Growth and is a great opportunity for someone looking to accelerate their marketing career at a fast-growing marketplace startup.\\n\\nWhat You Will Do\\n\\nDevelop and iterate on long-term demand generation strategy and launch campaigns that drive Workling toward company growth targets.\\nAnalyze Workling’s marketing and sales data to understand key levers of demand generation and growth opportunities.\\nOwn and optimize Workling’s ABM efforts, working closely with Sales, RevOps, and Marketing to penetrate accounts and accelerate the sales cycle.\\nMonitor demand generation trends (leads, account penetration, pipeline, etc.) and report to leadership and GTM teams on findings as well as recommended actions.\\nPartner with Sales to define lead lifecycle, lead follow-up SLAs, and ensure proper visibility into pipeline via reporting/dashboards.\\nPartner with Sales to strategize and execute on demand generation and ABM campaigns.\\nWork with Design and rest of Marketing team to ideate, launch, test, and optimize landing page, ads, email campaigns that convert.\\nIdentify opportunities to grow top of funnel contact list and define and execute on nurture marketing strategy to build relationships with prospects via content and community.\\nPartner with Product, Marketing and Content to ensure alignment between demand generation and broader team efforts/goals.\\n\\nHere’s What We Are Looking For\\n\\n5+ years of experience in demand or have relevant experience in B2B SaaS.\\nUnderstand demand generation, performance marketing and ABM, and know how to launch programs that support revenue goals.\\nUnderstand demand generation reporting, attribution, and how to use Salesforce to monitor impact to leads and pipeline.\\nHave effective speaker, writer, and presenter skills.\\nBe results-oriented and data-driven.\\nHave to be adaptable and comfortable with a fast-paced environment.\\n\\nHow we do make your work (and your life) easier:\\n\\n0% remote work.\\nHardware setup for you to work from home.\\nFlexible hours - make your schedule.\\nPaid parental leave, vacation & holidays.\\nDiverse and multicultural work environment.\\nAn innovative environment with the structure and resources of a leading multinational.\\nExcellent compensation - well above the market average.\\nHere you can grow at the speed of your learning curve.\\n\\nOur people work remotely but with a consistent and robust culture that promotes diversity and teamwork. To continue being the leading software development company in Latin America, we want to ensure that every BairesDev member gets the best growth and professional development opportunities in a diverse, welcoming, and innovative environment.\\n\\nEvery BairesDev team member brings something unique to our company.\\n\\nWe want to hear your story. Apply now!                                                                                                                                                                                                                                                                                                                                                                                                                                                                                                                             1\n",
              "Estudios: Ingeniería Eléctrica, Electrónica, Mecatrónica o afín. Pasante o Titulado\\nProactivo y facilidad de palabra\\nManejo de Microsoft Office\\nLicencia de manejo tipo “A”\\nBuena presentación\\nZona de trabajo Ecatepec                                                                                                                                                                                                                                                                                                                                                                                                                                                                                                                                                                                                                                                                                                                                                                                                                                                                                                                                                                                                                                                                                                                                                                                                                                                                                                                                                                                                                                                                                                                                                                                                                                                                                                                                                                                                                                                                                                                                                                                                                                                                                                                                                                                                                                                                                                                                                                                                                                                                                                                                                                                                                                                                                                                                                                                                                                                                                                                                                                                                                                                                                                                                                                                                                                                                                                                                                                                                                                                                                                                                                                                                                                                                                                                                                                                                                                                                                                                                                                                                                                                                                                                   1\n",
              "¡únete a la institución n°1 en microfinanzas de latinoamérica y el caribe y la n°2 a nivel mundial!\\n\\nen mibanco, el banco especializado en microfinanzas del grupo credicorp, tenemos el propósito de transformar las vidas de los colombianos a través de la inclusión financiera. por ello, nos encontramos en búsqueda de una persona apasionada por el logro de metas, que le guste trabajar con los pequeños empresarios del país.\\n\\n¿por qué trabajar con nosotros?\\n\\ntrabajarás con los mejores equipos en un entorno diverso y dinámico. ofrecemos sueldo competitivo y un excelente ambiente laboral: entretenido, dinámico y desafiante. esperamos que puedas aprender y que nosotros también podamos aprender de ti.\\n\\nrequisitos: profesional en carreras administrativas, financieras y/o comerciales; con mínimo de 5 años de experiencia en el proceso comercial del sector financiero\\n\\nconocimientos específicos\\n\\nprocesos comerciales y crediticios\\n\\nexcel intermedio\\n\\ndiseño y administración de bases de datos\\n\\nanálisis de datos, consolidación de información y reportes\\n\\nandragogía y pedagogía                                                                                                                                                                                                                                                                                                                                                                                                                                                                                                                                                                                                                                                                                                                                                                                                                                                                                                                                                                                                                                                                                                                                                                                                                                                                                                                                                                                                                                                                                                                                                                                                                                                                                                                                                                                                                                                                                                                                                                                                                                                                                                                                                                                                                                                                                                                                                                                                                                                                                                                                                                                                                                                                                                                                                                                                                                                                                                                                                                                                                                                                                                                                                                                                         1\n",
              "Name: description, Length: 9869, dtype: int64"
            ]
          },
          "metadata": {},
          "execution_count": 143
        }
      ],
      "source": [
        "df['description'].value_counts()"
      ]
    },
    {
      "cell_type": "markdown",
      "source": [
        "# Sweetviz report"
      ],
      "metadata": {
        "id": "26c55c05-d4e0-4ed3-8f1b-59ffbffbba53"
      }
    },
    {
      "cell_type": "code",
      "execution_count": null,
      "metadata": {
        "id": "f09aa812-dff9-49b3-8749-6568caab7f97",
        "colab": {
          "base_uri": "https://localhost:8080/",
          "height": 414,
          "referenced_widgets": [
            "5f220729ed9249d5a190638e2b5d508a",
            "04393ea903174370b9f19e2a1280e106",
            "cbc2fec83c3b434fa6c7be31c32bc12f",
            "36d8a56ca9d749e0944b81f0f9d0f14c",
            "bd53010876f54b1193fe27e9181ff263",
            "1f1af146332d4b2abb4adfae4767eaac",
            "a366ce9203614b9196ded94a50446d55",
            "01d1b58780384bbdb756e74957ef23ce",
            "8fe2cf94339d4ebaabcf96ff09201499",
            "816fe52c192b4775aa0a424fbed6507c",
            "ec383c047f564893addb3d23a0f75f30"
          ]
        },
        "outputId": "6295c74b-9062-4c75-fb3b-895b085b905f"
      },
      "outputs": [
        {
          "output_type": "stream",
          "name": "stderr",
          "text": [
            "/usr/local/lib/python3.10/dist-packages/sweetviz/dataframe_report.py:74: FutureWarning: iteritems is deprecated and will be removed in a future version. Use .items instead.\n",
            "  all_source_names = [cur_name for cur_name, cur_series in source_df.iteritems()]\n",
            "/usr/local/lib/python3.10/dist-packages/sweetviz/dataframe_report.py:109: FutureWarning: iteritems is deprecated and will be removed in a future version. Use .items instead.\n",
            "  filtered_series_names_in_source = [cur_name for cur_name, cur_series in source_df.iteritems()\n"
          ]
        },
        {
          "output_type": "display_data",
          "data": {
            "text/plain": [
              "                                             |          | [  0%]   00:00 -> (? left)"
            ],
            "application/vnd.jupyter.widget-view+json": {
              "version_major": 2,
              "version_minor": 0,
              "model_id": "5f220729ed9249d5a190638e2b5d508a"
            }
          },
          "metadata": {}
        },
        {
          "output_type": "stream",
          "name": "stderr",
          "text": [
            "/usr/local/lib/python3.10/dist-packages/sweetviz/series_analyzer_numeric.py:25: FutureWarning: The 'mad' method is deprecated and will be removed in a future version. To compute the same result, you may do `(df - df.mean()).abs().mean()`.\n",
            "  stats[\"mad\"] = series.mad()\n",
            "/usr/local/lib/python3.10/dist-packages/sweetviz/series_analyzer_cat.py:28: FutureWarning: iteritems is deprecated and will be removed in a future version. Use .items instead.\n",
            "  for item in category_counts.iteritems():\n",
            "/usr/local/lib/python3.10/dist-packages/sweetviz/series_analyzer_cat.py:28: FutureWarning: iteritems is deprecated and will be removed in a future version. Use .items instead.\n",
            "  for item in category_counts.iteritems():\n",
            "/usr/local/lib/python3.10/dist-packages/sweetviz/series_analyzer_cat.py:28: FutureWarning: iteritems is deprecated and will be removed in a future version. Use .items instead.\n",
            "  for item in category_counts.iteritems():\n",
            "/usr/local/lib/python3.10/dist-packages/sweetviz/series_analyzer_text.py:19: FutureWarning: iteritems is deprecated and will be removed in a future version. Use .items instead.\n",
            "  for item in to_process.source_counts[\"value_counts_without_nan\"].iteritems():\n",
            "/usr/local/lib/python3.10/dist-packages/sweetviz/series_analyzer_cat.py:28: FutureWarning: iteritems is deprecated and will be removed in a future version. Use .items instead.\n",
            "  for item in category_counts.iteritems():\n",
            "/usr/local/lib/python3.10/dist-packages/sweetviz/series_analyzer_text.py:19: FutureWarning: iteritems is deprecated and will be removed in a future version. Use .items instead.\n",
            "  for item in to_process.source_counts[\"value_counts_without_nan\"].iteritems():\n",
            "/usr/local/lib/python3.10/dist-packages/sweetviz/series_analyzer_text.py:19: FutureWarning: iteritems is deprecated and will be removed in a future version. Use .items instead.\n",
            "  for item in to_process.source_counts[\"value_counts_without_nan\"].iteritems():\n"
          ]
        },
        {
          "output_type": "stream",
          "name": "stdout",
          "text": [
            "Report /content/drive/MyDrive/hunty/sw_report_vacantes.xlsx_Sheet1.html was generated! NOTEBOOK/COLAB USERS: the web browser MAY not pop up, regardless, the report IS saved in your notebook/colab files.\n"
          ]
        }
      ],
      "source": [
        "sweet_report = sv.analyze(df)\n",
        "sweet_report.show_html(f'{path_dir}sw_report_vacantes.xlsx_Sheet1.html')"
      ]
    }
  ]
}